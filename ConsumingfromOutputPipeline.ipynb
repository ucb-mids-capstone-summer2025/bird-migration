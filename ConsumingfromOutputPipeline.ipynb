{
 "cells": [
  {
   "cell_type": "markdown",
   "id": "8dabdfc3-51ee-451c-9f52-786cc87f995e",
   "metadata": {},
   "source": [
    "### Install dependencies"
   ]
  },
  {
   "cell_type": "code",
   "execution_count": 1,
   "id": "6ffa3745-9496-48be-a074-def7ce53a208",
   "metadata": {
    "execution": {
     "iopub.execute_input": "2025-06-18T18:03:32.426514Z",
     "iopub.status.busy": "2025-06-18T18:03:32.425734Z",
     "iopub.status.idle": "2025-06-18T18:03:35.762970Z",
     "shell.execute_reply": "2025-06-18T18:03:35.761968Z",
     "shell.execute_reply.started": "2025-06-18T18:03:32.426477Z"
    }
   },
   "outputs": [
    {
     "name": "stdout",
     "output_type": "stream",
     "text": [
      "Requirement already satisfied: folium in /opt/conda/lib/python3.12/site-packages (0.20.0)\n",
      "Requirement already satisfied: pandas in /opt/conda/lib/python3.12/site-packages (2.2.3)\n",
      "Requirement already satisfied: branca>=0.6.0 in /opt/conda/lib/python3.12/site-packages (from folium) (0.8.1)\n",
      "Requirement already satisfied: jinja2>=2.9 in /opt/conda/lib/python3.12/site-packages (from folium) (3.1.6)\n",
      "Requirement already satisfied: numpy in /opt/conda/lib/python3.12/site-packages (from folium) (1.26.4)\n",
      "Requirement already satisfied: requests in /opt/conda/lib/python3.12/site-packages (from folium) (2.32.3)\n",
      "Requirement already satisfied: xyzservices in /opt/conda/lib/python3.12/site-packages (from folium) (2025.4.0)\n",
      "Requirement already satisfied: python-dateutil>=2.8.2 in /opt/conda/lib/python3.12/site-packages (from pandas) (2.9.0.post0)\n",
      "Requirement already satisfied: pytz>=2020.1 in /opt/conda/lib/python3.12/site-packages (from pandas) (2024.2)\n",
      "Requirement already satisfied: tzdata>=2022.7 in /opt/conda/lib/python3.12/site-packages (from pandas) (2025.2)\n",
      "Requirement already satisfied: MarkupSafe>=2.0 in /opt/conda/lib/python3.12/site-packages (from jinja2>=2.9->folium) (3.0.2)\n",
      "Requirement already satisfied: six>=1.5 in /opt/conda/lib/python3.12/site-packages (from python-dateutil>=2.8.2->pandas) (1.17.0)\n",
      "Requirement already satisfied: charset_normalizer<4,>=2 in /opt/conda/lib/python3.12/site-packages (from requests->folium) (3.4.2)\n",
      "Requirement already satisfied: idna<4,>=2.5 in /opt/conda/lib/python3.12/site-packages (from requests->folium) (3.10)\n",
      "Requirement already satisfied: urllib3<3,>=1.21.1 in /opt/conda/lib/python3.12/site-packages (from requests->folium) (1.26.19)\n",
      "Requirement already satisfied: certifi>=2017.4.17 in /opt/conda/lib/python3.12/site-packages (from requests->folium) (2025.4.26)\n",
      "Requirement already satisfied: shapely in /opt/conda/lib/python3.12/site-packages (2.1.1)\n",
      "Requirement already satisfied: numpy>=1.21 in /opt/conda/lib/python3.12/site-packages (from shapely) (1.26.4)\n"
     ]
    }
   ],
   "source": [
    "!pip install folium pandas\n",
    "!pip install shapely"
   ]
  },
  {
   "cell_type": "code",
   "execution_count": 3,
   "id": "3c2d2178-853d-41b2-b028-d8c17640f096",
   "metadata": {
    "execution": {
     "iopub.execute_input": "2025-06-18T18:07:14.360945Z",
     "iopub.status.busy": "2025-06-18T18:07:14.360587Z",
     "iopub.status.idle": "2025-06-18T18:07:14.616260Z",
     "shell.execute_reply": "2025-06-18T18:07:14.615398Z",
     "shell.execute_reply.started": "2025-06-18T18:07:14.360917Z"
    }
   },
   "outputs": [],
   "source": [
    "import boto3\n",
    "import pandas as pd\n",
    "import io\n",
    "from botocore.exceptions import ClientError\n",
    "from shapely.geometry import Point, Polygon\n",
    "import math\n",
    "import folium\n",
    "from folium import plugins\n",
    "import numpy as np\n",
    "import folium\n",
    "import pandas as pd\n",
    "from typing import Optional, Union, Tuple\n",
    "import json\n",
    "from ipywidgets import interact, FloatSlider, Layout\n",
    "import ipywidgets as widgets\n",
    "from shapely.vectorized import contains\n",
    "import s3fs"
   ]
  },
  {
   "cell_type": "markdown",
   "id": "df97cf55-42d5-4b65-89d0-d07a819fd368",
   "metadata": {},
   "source": [
    "### Read Data"
   ]
  },
  {
   "cell_type": "code",
   "execution_count": 4,
   "id": "5cf19812-8457-45a1-91e1-dd467dc29852",
   "metadata": {
    "execution": {
     "iopub.execute_input": "2025-06-18T18:08:50.707094Z",
     "iopub.status.busy": "2025-06-18T18:08:50.706322Z",
     "iopub.status.idle": "2025-06-18T18:08:51.578310Z",
     "shell.execute_reply": "2025-06-18T18:08:51.577715Z",
     "shell.execute_reply.started": "2025-06-18T18:08:50.707063Z"
    }
   },
   "outputs": [
    {
     "data": {
      "text/html": [
       "<div>\n",
       "<style scoped>\n",
       "    .dataframe tbody tr th:only-of-type {\n",
       "        vertical-align: middle;\n",
       "    }\n",
       "\n",
       "    .dataframe tbody tr th {\n",
       "        vertical-align: top;\n",
       "    }\n",
       "\n",
       "    .dataframe thead th {\n",
       "        text-align: right;\n",
       "    }\n",
       "</style>\n",
       "<table border=\"1\" class=\"dataframe\">\n",
       "  <thead>\n",
       "    <tr style=\"text-align: right;\">\n",
       "      <th></th>\n",
       "      <th>state_code</th>\n",
       "      <th>station_id</th>\n",
       "      <th>year_record</th>\n",
       "      <th>month_record</th>\n",
       "      <th>day_record</th>\n",
       "      <th>day_of_week</th>\n",
       "      <th>latitude_0</th>\n",
       "      <th>longitude_0</th>\n",
       "      <th>station_location</th>\n",
       "      <th>state</th>\n",
       "      <th>...</th>\n",
       "      <th>OBSERVATION DATE_month</th>\n",
       "      <th>OBSERVATION DATE_day</th>\n",
       "      <th>TimeObservationStarted_hour</th>\n",
       "      <th>TimeObservationStarted_minute</th>\n",
       "      <th>distance_to_station_160005</th>\n",
       "      <th>distance_to_station_140004</th>\n",
       "      <th>distance_to_station_160308</th>\n",
       "      <th>distance_to_station_060170</th>\n",
       "      <th>distance_to_station_792625</th>\n",
       "      <th>assigned_station</th>\n",
       "    </tr>\n",
       "  </thead>\n",
       "  <tbody>\n",
       "    <tr>\n",
       "      <th>0</th>\n",
       "      <td>51</td>\n",
       "      <td>160005</td>\n",
       "      <td>2023</td>\n",
       "      <td>6</td>\n",
       "      <td>30</td>\n",
       "      <td>6</td>\n",
       "      <td>38.13873</td>\n",
       "      <td>-77.50837</td>\n",
       "      <td>5.85 S RAMP FR RT 1                           ...</td>\n",
       "      <td>VA</td>\n",
       "      <td>...</td>\n",
       "      <td>0</td>\n",
       "      <td>19</td>\n",
       "      <td>14</td>\n",
       "      <td>0</td>\n",
       "      <td>5.323592</td>\n",
       "      <td>40.842887</td>\n",
       "      <td>33.085488</td>\n",
       "      <td>7.701909</td>\n",
       "      <td>22.943019</td>\n",
       "      <td>160005</td>\n",
       "    </tr>\n",
       "    <tr>\n",
       "      <th>1</th>\n",
       "      <td>51</td>\n",
       "      <td>160005</td>\n",
       "      <td>2023</td>\n",
       "      <td>6</td>\n",
       "      <td>29</td>\n",
       "      <td>5</td>\n",
       "      <td>38.13873</td>\n",
       "      <td>-77.50837</td>\n",
       "      <td>5.85 S RAMP FR RT 1                           ...</td>\n",
       "      <td>VA</td>\n",
       "      <td>...</td>\n",
       "      <td>0</td>\n",
       "      <td>19</td>\n",
       "      <td>14</td>\n",
       "      <td>0</td>\n",
       "      <td>5.323592</td>\n",
       "      <td>40.842887</td>\n",
       "      <td>33.085488</td>\n",
       "      <td>7.701909</td>\n",
       "      <td>22.943019</td>\n",
       "      <td>160005</td>\n",
       "    </tr>\n",
       "    <tr>\n",
       "      <th>2</th>\n",
       "      <td>51</td>\n",
       "      <td>160005</td>\n",
       "      <td>2023</td>\n",
       "      <td>6</td>\n",
       "      <td>28</td>\n",
       "      <td>4</td>\n",
       "      <td>38.13873</td>\n",
       "      <td>-77.50837</td>\n",
       "      <td>5.85 S RAMP FR RT 1                           ...</td>\n",
       "      <td>VA</td>\n",
       "      <td>...</td>\n",
       "      <td>0</td>\n",
       "      <td>19</td>\n",
       "      <td>14</td>\n",
       "      <td>0</td>\n",
       "      <td>5.323592</td>\n",
       "      <td>40.842887</td>\n",
       "      <td>33.085488</td>\n",
       "      <td>7.701909</td>\n",
       "      <td>22.943019</td>\n",
       "      <td>160005</td>\n",
       "    </tr>\n",
       "    <tr>\n",
       "      <th>3</th>\n",
       "      <td>51</td>\n",
       "      <td>160005</td>\n",
       "      <td>2023</td>\n",
       "      <td>6</td>\n",
       "      <td>27</td>\n",
       "      <td>3</td>\n",
       "      <td>38.13873</td>\n",
       "      <td>-77.50837</td>\n",
       "      <td>5.85 S RAMP FR RT 1                           ...</td>\n",
       "      <td>VA</td>\n",
       "      <td>...</td>\n",
       "      <td>0</td>\n",
       "      <td>19</td>\n",
       "      <td>14</td>\n",
       "      <td>0</td>\n",
       "      <td>5.323592</td>\n",
       "      <td>40.842887</td>\n",
       "      <td>33.085488</td>\n",
       "      <td>7.701909</td>\n",
       "      <td>22.943019</td>\n",
       "      <td>160005</td>\n",
       "    </tr>\n",
       "    <tr>\n",
       "      <th>4</th>\n",
       "      <td>51</td>\n",
       "      <td>160005</td>\n",
       "      <td>2023</td>\n",
       "      <td>6</td>\n",
       "      <td>26</td>\n",
       "      <td>2</td>\n",
       "      <td>38.13873</td>\n",
       "      <td>-77.50837</td>\n",
       "      <td>5.85 S RAMP FR RT 1                           ...</td>\n",
       "      <td>VA</td>\n",
       "      <td>...</td>\n",
       "      <td>0</td>\n",
       "      <td>19</td>\n",
       "      <td>14</td>\n",
       "      <td>0</td>\n",
       "      <td>5.323592</td>\n",
       "      <td>40.842887</td>\n",
       "      <td>33.085488</td>\n",
       "      <td>7.701909</td>\n",
       "      <td>22.943019</td>\n",
       "      <td>160005</td>\n",
       "    </tr>\n",
       "  </tbody>\n",
       "</table>\n",
       "<p>5 rows × 32 columns</p>\n",
       "</div>"
      ],
      "text/plain": [
       "   state_code  station_id  year_record  month_record  day_record  day_of_week  \\\n",
       "0          51      160005         2023             6          30            6   \n",
       "1          51      160005         2023             6          29            5   \n",
       "2          51      160005         2023             6          28            4   \n",
       "3          51      160005         2023             6          27            3   \n",
       "4          51      160005         2023             6          26            2   \n",
       "\n",
       "   latitude_0  longitude_0                                   station_location  \\\n",
       "0    38.13873    -77.50837  5.85 S RAMP FR RT 1                           ...   \n",
       "1    38.13873    -77.50837  5.85 S RAMP FR RT 1                           ...   \n",
       "2    38.13873    -77.50837  5.85 S RAMP FR RT 1                           ...   \n",
       "3    38.13873    -77.50837  5.85 S RAMP FR RT 1                           ...   \n",
       "4    38.13873    -77.50837  5.85 S RAMP FR RT 1                           ...   \n",
       "\n",
       "  state  ...  OBSERVATION DATE_month  OBSERVATION DATE_day  \\\n",
       "0    VA  ...                       0                    19   \n",
       "1    VA  ...                       0                    19   \n",
       "2    VA  ...                       0                    19   \n",
       "3    VA  ...                       0                    19   \n",
       "4    VA  ...                       0                    19   \n",
       "\n",
       "   TimeObservationStarted_hour  TimeObservationStarted_minute  \\\n",
       "0                           14                              0   \n",
       "1                           14                              0   \n",
       "2                           14                              0   \n",
       "3                           14                              0   \n",
       "4                           14                              0   \n",
       "\n",
       "   distance_to_station_160005  distance_to_station_140004  \\\n",
       "0                    5.323592                   40.842887   \n",
       "1                    5.323592                   40.842887   \n",
       "2                    5.323592                   40.842887   \n",
       "3                    5.323592                   40.842887   \n",
       "4                    5.323592                   40.842887   \n",
       "\n",
       "  distance_to_station_160308 distance_to_station_060170  \\\n",
       "0                  33.085488                   7.701909   \n",
       "1                  33.085488                   7.701909   \n",
       "2                  33.085488                   7.701909   \n",
       "3                  33.085488                   7.701909   \n",
       "4                  33.085488                   7.701909   \n",
       "\n",
       "   distance_to_station_792625  assigned_station  \n",
       "0                   22.943019            160005  \n",
       "1                   22.943019            160005  \n",
       "2                   22.943019            160005  \n",
       "3                   22.943019            160005  \n",
       "4                   22.943019            160005  \n",
       "\n",
       "[5 rows x 32 columns]"
      ]
     },
     "execution_count": 4,
     "metadata": {},
     "output_type": "execute_result"
    }
   ],
   "source": [
    "# Initialize boto3 session and get credentials\n",
    "session = boto3.Session()\n",
    "credentials = session.get_credentials()\n",
    "\n",
    "# Initialize S3 filesystem with boto3 credentials\n",
    "s3 = s3fs.S3FileSystem(\n",
    "    key=credentials.access_key,\n",
    "    secret=credentials.secret_key,\n",
    "    token=credentials.token,  # This will be included if using temporary credentials\n",
    "    anon=False\n",
    ")\n",
    "# Read the parquet file\n",
    "s3_path = 's3://birdsbucker/Pipeline_Outputs/output_6ff24b78-4d86-4453-9a84-032d30a10854/part-00000-a03252eb-99f3-41d5-b2a1-4f0abd303539-c000.parquet'\n",
    "df_birds = pd.read_parquet(s3_path, filesystem=s3)\n",
    "\n",
    "df_birds.head()"
   ]
  },
  {
   "cell_type": "markdown",
   "id": "be180fa6-50d2-4d06-99de-73de9bbdb29a",
   "metadata": {
    "jp-MarkdownHeadingCollapsed": true
   },
   "source": [
    "### Support Functions"
   ]
  },
  {
   "cell_type": "markdown",
   "id": "bb0af57f-5c37-48a2-89a1-a17927561ccb",
   "metadata": {},
   "source": [
    "#### Create point layer"
   ]
  },
  {
   "cell_type": "code",
   "execution_count": 35,
   "id": "6e7fe20b-d7ab-400c-9345-8dde959f6f77",
   "metadata": {
    "execution": {
     "iopub.execute_input": "2025-06-18T17:31:39.082005Z",
     "iopub.status.busy": "2025-06-18T17:31:39.081404Z",
     "iopub.status.idle": "2025-06-18T17:31:39.091166Z",
     "shell.execute_reply": "2025-06-18T17:31:39.090226Z",
     "shell.execute_reply.started": "2025-06-18T17:31:39.081970Z"
    }
   },
   "outputs": [],
   "source": [
    "##v2\n",
    "def create_point_layer(df, latitude, longitude, id, bird_observations, traffic_noise):\n",
    "    \"\"\"\n",
    "    Create a feature group with points scaled by bird observations and colored by traffic noise.\n",
    "    \n",
    "    Args:\n",
    "        df (pd.DataFrame): DataFrame containing the point data\n",
    "        latitude (str): Name of latitude column\n",
    "        longitude (str): Name of longitude column\n",
    "        id (str): Name of ID column\n",
    "        bird_observations (str): Name of bird observations column\n",
    "        traffic_noise (str): Name of traffic noise column\n",
    "    \n",
    "    Returns:\n",
    "        folium.FeatureGroup: Layer containing all points\n",
    "    \"\"\"\n",
    "    # Create feature group\n",
    "    point_layer = folium.FeatureGroup(name='Observation Points')\n",
    "\n",
    "    # Remove any NaN values\n",
    "    df = df.dropna(subset=[bird_observations, traffic_noise])\n",
    "    \n",
    "    if len(df) == 0:\n",
    "        return point_layer\n",
    "    \n",
    "    # Calculate scales for size and color\n",
    "    min_birds = df[bird_observations].min()\n",
    "    max_birds = df[bird_observations].max()\n",
    "    min_noise = df[traffic_noise].min()\n",
    "    max_noise = df[traffic_noise].max()\n",
    "    \n",
    "    # Create scaling functions\n",
    "    def scale_radius(value):\n",
    "        # Scale radius between 5 and 25 pixels\n",
    "        return 5 + ((value - min_birds) / (max_birds - min_birds)) * 20\n",
    "    \n",
    "    def scale_color(value):\n",
    "        # Create color scale from green (quiet) to red (noisy)\n",
    "        normalized = (value - min_noise) / (max_noise - min_noise)\n",
    "        return f'#{int(255 * normalized):02x}{int(255 * (1-normalized)):02x}00'\n",
    "    \n",
    "    # Add points to layer\n",
    "    for idx, row in df.iterrows():\n",
    "        # Calculate radius and color\n",
    "        radius = scale_radius(row[bird_observations])\n",
    "        color = scale_color(row[traffic_noise])\n",
    "        \n",
    "        # Create popup content\n",
    "        popup_content = f\"\"\"\n",
    "            <b>Station ID:</b> {row[id]}<br>\n",
    "            <b>Bird Observations:</b> {row[bird_observations]}<br>\n",
    "            <b>Traffic Noise:</b> {row[traffic_noise]:.2f}<br>\n",
    "        \"\"\"\n",
    "        \n",
    "        # Add circle marker\n",
    "        folium.CircleMarker(\n",
    "            location=[row[latitude], row[longitude]],\n",
    "            radius=radius,\n",
    "            popup=folium.Popup(popup_content, max_width=300),\n",
    "            color='black',\n",
    "            weight=1,\n",
    "            fill=True,\n",
    "            fill_color=color,\n",
    "            fill_opacity=0.7,\n",
    "            tooltip=f\"Station {row[id]}\"\n",
    "        ).add_to(point_layer)\n",
    "    \n",
    "    # Add legend for size\n",
    "    legend_html = f\"\"\"\n",
    "        <div style=\"position: fixed; \n",
    "                    bottom: 50px; right: 50px; width: 150px; height: 90px; \n",
    "                    border:2px solid grey; z-index:9999; background-color:white;\n",
    "                    padding: 10px;\n",
    "                    font-size: 14px;\">\n",
    "            <p><b>Legend:</b></p>\n",
    "            <p>🔴 Size: Bird Observations<br>\n",
    "               ({min_birds:.0f} - {max_birds:.0f})</p>\n",
    "            <p>🎨 Color: Traffic Noise<br>\n",
    "               ({min_noise:.1f} - {max_noise:.1f})</p>\n",
    "        </div>\n",
    "    \"\"\"\n",
    "    point_layer.add_child(folium.Element(legend_html))\n",
    "    \n",
    "    return point_layer"
   ]
  },
  {
   "cell_type": "markdown",
   "id": "d4a10ec2-02df-420e-b11e-9eeba63bf744",
   "metadata": {},
   "source": [
    "#### Add point to map "
   ]
  },
  {
   "cell_type": "code",
   "execution_count": 36,
   "id": "88a59904-b551-4851-b90e-e34c2d2d875e",
   "metadata": {
    "execution": {
     "iopub.execute_input": "2025-06-18T17:31:39.092793Z",
     "iopub.status.busy": "2025-06-18T17:31:39.092385Z",
     "iopub.status.idle": "2025-06-18T17:31:39.099578Z",
     "shell.execute_reply": "2025-06-18T17:31:39.098706Z",
     "shell.execute_reply.started": "2025-06-18T17:31:39.092737Z"
    }
   },
   "outputs": [],
   "source": [
    "def add_df_point_to_map(df, m):\n",
    "    \"\"\"\n",
    "    Add points from DataFrame to map with size and color based on total_birds\n",
    "    \n",
    "    Parameters:\n",
    "    df: DataFrame containing latitude, longitude, and total_birds\n",
    "    m: folium Map object\n",
    "    \n",
    "    Returns:\n",
    "    feature_group: Folium FeatureGroup containing all markers\n",
    "    \"\"\"\n",
    "\n",
    "    min_birds = df['total_birds'].min()\n",
    "    max_birds = df['total_birds'].max()\n",
    "    \n",
    "    # Create a feature group for the data points\n",
    "    feature_group = folium.FeatureGroup(name='Bird Observations')\n",
    "    \n",
    "    # Add points to feature group\n",
    "    for idx, row in df.iterrows():\n",
    "        folium.CircleMarker(\n",
    "            location=[row['Lat'], row['Long']],\n",
    "            radius=scale_radius(row['total_birds'], min_birds, max_birds),\n",
    "            color=get_color(row['total_birds']),\n",
    "            fill=True,\n",
    "            fill_color=get_color(row['total_birds']),\n",
    "            fill_opacity=0.7,\n",
    "            popup=f\"Total Birds: {row['total_birds']}\",\n",
    "            tooltip=f\"Location: ({row['Lat']:.2f}, {row['Long']:.2f})\\nTotal Birds: {row['total_birds']}\"\n",
    "        ).add_to(feature_group)\n",
    "    \n",
    "    # Add the feature group to the map\n",
    "    feature_group.add_to(m)\n",
    "    \n",
    "    # Add a legend\n",
    "    legend_html = '''\n",
    "    <div style=\"position: fixed; \n",
    "                bottom: 50px; right: 50px; \n",
    "                border:2px solid grey; z-index:9999; font-size:14px;\n",
    "                background-color: white;\n",
    "                padding: 10px;\n",
    "                border-radius: 5px;\n",
    "                \">\n",
    "    <p><b>Bird Count Legend</b></p>\n",
    "    <p>\n",
    "    <i class=\"fa fa-circle\" style=\"color:blue\"></i> Low<br>\n",
    "    <i class=\"fa fa-circle\" style=\"color:yellow\"></i> Medium<br>\n",
    "    <i class=\"fa fa-circle\" style=\"color:orange\"></i> High<br>\n",
    "    <i class=\"fa fa-circle\" style=\"color:red\"></i> Very High\n",
    "    </p>\n",
    "    </div>\n",
    "    '''\n",
    "    m.get_root().html.add_child(folium.Element(legend_html))\n",
    "    \n",
    "    # Return the feature group\n",
    "    return feature_group"
   ]
  },
  {
   "cell_type": "markdown",
   "id": "1b05c23e-ba1f-4998-bc1a-c35d3a8806a5",
   "metadata": {
    "execution": {
     "iopub.execute_input": "2025-06-17T21:33:38.215707Z",
     "iopub.status.busy": "2025-06-17T21:33:38.215336Z",
     "iopub.status.idle": "2025-06-17T21:33:38.218720Z",
     "shell.execute_reply": "2025-06-17T21:33:38.218046Z",
     "shell.execute_reply.started": "2025-06-17T21:33:38.215682Z"
    }
   },
   "source": [
    "#### Slicers for noise and observations"
   ]
  },
  {
   "cell_type": "code",
   "execution_count": 41,
   "id": "3904dc36-a400-4552-86dd-b4b288ed7085",
   "metadata": {
    "execution": {
     "iopub.execute_input": "2025-06-18T17:31:39.131503Z",
     "iopub.status.busy": "2025-06-18T17:31:39.131114Z",
     "iopub.status.idle": "2025-06-18T17:31:39.137451Z",
     "shell.execute_reply": "2025-06-18T17:31:39.136713Z",
     "shell.execute_reply.started": "2025-06-18T17:31:39.131475Z"
    }
   },
   "outputs": [],
   "source": [
    "def create_filtered_layer(noise_threshold, bird_threshold, df):\n",
    "    \"\"\"\n",
    "    Create a feature group with points filtered by both noise and bird observation thresholds\n",
    "    \n",
    "    Args:\n",
    "        noise_threshold (float): Maximum noise level threshold\n",
    "        bird_threshold (float): Minimum bird observations threshold\n",
    "        df (pd.DataFrame): DataFrame with station data\n",
    "    \n",
    "    Returns:\n",
    "        folium.FeatureGroup: Filtered point layer\n",
    "    \"\"\"\n",
    "    # Filter data based on both thresholds\n",
    "    filtered_df = df[\n",
    "        (df['daily_avg_noise'] <= noise_threshold) & \n",
    "        (df['bird_observations'] >= bird_threshold)\n",
    "    ]\n",
    "    \n",
    "    # Create and return filtered point layer\n",
    "    return create_point_layer(\n",
    "        df=filtered_df,\n",
    "        latitude='latitude',\n",
    "        longitude='longitude',\n",
    "        id='station_id',\n",
    "        bird_observations='bird_observations',\n",
    "        traffic_noise='daily_avg_noise'\n",
    "    )"
   ]
  },
  {
   "cell_type": "markdown",
   "id": "4ed8d5b9-b43c-4466-9845-3f243321dd5d",
   "metadata": {},
   "source": [
    "### Processing\n",
    "1. Coordinates for area in scope"
   ]
  },
  {
   "cell_type": "code",
   "execution_count": 47,
   "id": "03cc3b9f-bbe8-4b99-95dd-91bf900ecb42",
   "metadata": {
    "execution": {
     "iopub.execute_input": "2025-06-18T17:31:43.665425Z",
     "iopub.status.busy": "2025-06-18T17:31:43.665114Z",
     "iopub.status.idle": "2025-06-18T17:31:43.669438Z",
     "shell.execute_reply": "2025-06-18T17:31:43.668684Z",
     "shell.execute_reply.started": "2025-06-18T17:31:43.665395Z"
    }
   },
   "outputs": [],
   "source": [
    "##making sure longitudes are negative\n",
    "stations['longitude'] = -abs(stations['longitude'])"
   ]
  },
  {
   "cell_type": "code",
   "execution_count": 48,
   "id": "367f51e2-da22-4a41-b130-7a9f36a994b2",
   "metadata": {
    "execution": {
     "iopub.execute_input": "2025-06-18T17:31:43.671025Z",
     "iopub.status.busy": "2025-06-18T17:31:43.670508Z",
     "iopub.status.idle": "2025-06-18T17:31:43.674593Z",
     "shell.execute_reply": "2025-06-18T17:31:43.673994Z",
     "shell.execute_reply.started": "2025-06-18T17:31:43.671001Z"
    }
   },
   "outputs": [],
   "source": [
    "applicable_stations=['160005', '060170', '792625', '160308', '140004', '140221']"
   ]
  },
  {
   "cell_type": "code",
   "execution_count": 49,
   "id": "83f8e9f4-ee0e-44bf-b7a4-7d5d000c95cf",
   "metadata": {
    "execution": {
     "iopub.execute_input": "2025-06-18T17:31:43.676111Z",
     "iopub.status.busy": "2025-06-18T17:31:43.675810Z",
     "iopub.status.idle": "2025-06-18T17:31:43.681016Z",
     "shell.execute_reply": "2025-06-18T17:31:43.680379Z",
     "shell.execute_reply.started": "2025-06-18T17:31:43.676081Z"
    }
   },
   "outputs": [],
   "source": [
    "scoped_stations = stations[stations['station_id'].isin(applicable_stations)]"
   ]
  },
  {
   "cell_type": "code",
   "execution_count": 50,
   "id": "69898beb-ad10-4bda-81f3-c9ee72ef71eb",
   "metadata": {
    "execution": {
     "iopub.execute_input": "2025-06-18T17:31:43.682505Z",
     "iopub.status.busy": "2025-06-18T17:31:43.682195Z",
     "iopub.status.idle": "2025-06-18T17:31:43.688253Z",
     "shell.execute_reply": "2025-06-18T17:31:43.687442Z",
     "shell.execute_reply.started": "2025-06-18T17:31:43.682475Z"
    }
   },
   "outputs": [],
   "source": [
    "scoped_stations= scoped_stations[['station_id',  'latitude', 'longitude']].drop_duplicates()"
   ]
  },
  {
   "cell_type": "code",
   "execution_count": 51,
   "id": "4f831908-d276-4470-9502-e9fe1d447565",
   "metadata": {
    "execution": {
     "iopub.execute_input": "2025-06-18T17:31:43.689768Z",
     "iopub.status.busy": "2025-06-18T17:31:43.689423Z",
     "iopub.status.idle": "2025-06-18T17:31:43.695591Z",
     "shell.execute_reply": "2025-06-18T17:31:43.694733Z",
     "shell.execute_reply.started": "2025-06-18T17:31:43.689689Z"
    }
   },
   "outputs": [],
   "source": [
    "# Define the desired order\n",
    "desired_order = ['160005', '060170', '792625', '160308', '140004', '140221']\n",
    "\n",
    "# Convert the station_id to string type if it's not already\n",
    "scoped_stations['station_id'] = scoped_stations['station_id'].astype(str)\n",
    "\n",
    "# Method 1: Using reindex\n",
    "scoped_stations = scoped_stations.set_index('station_id').reindex(desired_order).reset_index()"
   ]
  },
  {
   "cell_type": "code",
   "execution_count": 52,
   "id": "af6c0c7e-6d61-4ae8-b8d6-4d63f45913cb",
   "metadata": {
    "execution": {
     "iopub.execute_input": "2025-06-18T17:31:43.697316Z",
     "iopub.status.busy": "2025-06-18T17:31:43.696934Z",
     "iopub.status.idle": "2025-06-18T17:31:43.705788Z",
     "shell.execute_reply": "2025-06-18T17:31:43.705130Z",
     "shell.execute_reply.started": "2025-06-18T17:31:43.697292Z"
    }
   },
   "outputs": [
    {
     "data": {
      "text/html": [
       "<div>\n",
       "<style scoped>\n",
       "    .dataframe tbody tr th:only-of-type {\n",
       "        vertical-align: middle;\n",
       "    }\n",
       "\n",
       "    .dataframe tbody tr th {\n",
       "        vertical-align: top;\n",
       "    }\n",
       "\n",
       "    .dataframe thead th {\n",
       "        text-align: right;\n",
       "    }\n",
       "</style>\n",
       "<table border=\"1\" class=\"dataframe\">\n",
       "  <thead>\n",
       "    <tr style=\"text-align: right;\">\n",
       "      <th></th>\n",
       "      <th>station_id</th>\n",
       "      <th>latitude</th>\n",
       "      <th>longitude</th>\n",
       "    </tr>\n",
       "  </thead>\n",
       "  <tbody>\n",
       "    <tr>\n",
       "      <th>0</th>\n",
       "      <td>160005</td>\n",
       "      <td>38.13873</td>\n",
       "      <td>-77.50837</td>\n",
       "    </tr>\n",
       "    <tr>\n",
       "      <th>1</th>\n",
       "      <td>060170</td>\n",
       "      <td>38.12208</td>\n",
       "      <td>-77.51653</td>\n",
       "    </tr>\n",
       "    <tr>\n",
       "      <th>2</th>\n",
       "      <td>792625</td>\n",
       "      <td>37.98311</td>\n",
       "      <td>-77.49229</td>\n",
       "    </tr>\n",
       "    <tr>\n",
       "      <th>3</th>\n",
       "      <td>160308</td>\n",
       "      <td>37.89196</td>\n",
       "      <td>-77.45865</td>\n",
       "    </tr>\n",
       "    <tr>\n",
       "      <th>4</th>\n",
       "      <td>140004</td>\n",
       "      <td>37.82411</td>\n",
       "      <td>-77.45616</td>\n",
       "    </tr>\n",
       "    <tr>\n",
       "      <th>5</th>\n",
       "      <td>140221</td>\n",
       "      <td>37.75417</td>\n",
       "      <td>-77.45853</td>\n",
       "    </tr>\n",
       "  </tbody>\n",
       "</table>\n",
       "</div>"
      ],
      "text/plain": [
       "  station_id  latitude  longitude\n",
       "0     160005  38.13873  -77.50837\n",
       "1     060170  38.12208  -77.51653\n",
       "2     792625  37.98311  -77.49229\n",
       "3     160308  37.89196  -77.45865\n",
       "4     140004  37.82411  -77.45616\n",
       "5     140221  37.75417  -77.45853"
      ]
     },
     "execution_count": 52,
     "metadata": {},
     "output_type": "execute_result"
    }
   ],
   "source": [
    "scoped_stations"
   ]
  },
  {
   "cell_type": "markdown",
   "id": "62e20da1-1035-41c2-9f52-719efa67b1ba",
   "metadata": {},
   "source": [
    "#### Route coordinates and stations coordinates"
   ]
  },
  {
   "cell_type": "code",
   "execution_count": 53,
   "id": "fac8bef4-04e5-4942-bf04-2d5ab05a0c01",
   "metadata": {
    "execution": {
     "iopub.execute_input": "2025-06-18T17:31:43.707394Z",
     "iopub.status.busy": "2025-06-18T17:31:43.706918Z",
     "iopub.status.idle": "2025-06-18T17:31:43.715873Z",
     "shell.execute_reply": "2025-06-18T17:31:43.715085Z",
     "shell.execute_reply.started": "2025-06-18T17:31:43.707371Z"
    }
   },
   "outputs": [
    {
     "data": {
      "text/html": [
       "<div>\n",
       "<style scoped>\n",
       "    .dataframe tbody tr th:only-of-type {\n",
       "        vertical-align: middle;\n",
       "    }\n",
       "\n",
       "    .dataframe tbody tr th {\n",
       "        vertical-align: top;\n",
       "    }\n",
       "\n",
       "    .dataframe thead th {\n",
       "        text-align: right;\n",
       "    }\n",
       "</style>\n",
       "<table border=\"1\" class=\"dataframe\">\n",
       "  <thead>\n",
       "    <tr style=\"text-align: right;\">\n",
       "      <th></th>\n",
       "      <th>latitude</th>\n",
       "      <th>longitude</th>\n",
       "    </tr>\n",
       "  </thead>\n",
       "  <tbody>\n",
       "    <tr>\n",
       "      <th>0</th>\n",
       "      <td>38.13873</td>\n",
       "      <td>-77.50837</td>\n",
       "    </tr>\n",
       "    <tr>\n",
       "      <th>1</th>\n",
       "      <td>38.12208</td>\n",
       "      <td>-77.51653</td>\n",
       "    </tr>\n",
       "    <tr>\n",
       "      <th>2</th>\n",
       "      <td>37.98311</td>\n",
       "      <td>-77.49229</td>\n",
       "    </tr>\n",
       "    <tr>\n",
       "      <th>3</th>\n",
       "      <td>37.89196</td>\n",
       "      <td>-77.45865</td>\n",
       "    </tr>\n",
       "    <tr>\n",
       "      <th>4</th>\n",
       "      <td>37.82411</td>\n",
       "      <td>-77.45616</td>\n",
       "    </tr>\n",
       "    <tr>\n",
       "      <th>5</th>\n",
       "      <td>37.75417</td>\n",
       "      <td>-77.45853</td>\n",
       "    </tr>\n",
       "  </tbody>\n",
       "</table>\n",
       "</div>"
      ],
      "text/plain": [
       "   latitude  longitude\n",
       "0  38.13873  -77.50837\n",
       "1  38.12208  -77.51653\n",
       "2  37.98311  -77.49229\n",
       "3  37.89196  -77.45865\n",
       "4  37.82411  -77.45616\n",
       "5  37.75417  -77.45853"
      ]
     },
     "execution_count": 53,
     "metadata": {},
     "output_type": "execute_result"
    }
   ],
   "source": [
    "i95_detailed= scoped_stations[['latitude', 'longitude']]\n",
    "i95_detailed"
   ]
  },
  {
   "cell_type": "markdown",
   "id": "dcf71476-1c45-45e7-8621-8ee6b14e4c16",
   "metadata": {},
   "source": [
    "#### Filtering Traffic data based on scoped stations"
   ]
  },
  {
   "cell_type": "code",
   "execution_count": 54,
   "id": "1a3bcc12-c653-4cb5-96ac-f7dd8fe77457",
   "metadata": {
    "execution": {
     "iopub.execute_input": "2025-06-18T17:31:43.717465Z",
     "iopub.status.busy": "2025-06-18T17:31:43.716640Z",
     "iopub.status.idle": "2025-06-18T17:31:43.730264Z",
     "shell.execute_reply": "2025-06-18T17:31:43.729563Z",
     "shell.execute_reply.started": "2025-06-18T17:31:43.717435Z"
    }
   },
   "outputs": [],
   "source": [
    "traffic = traffic[traffic['station_id'].isin(applicable_stations)]"
   ]
  },
  {
   "cell_type": "code",
   "execution_count": 55,
   "id": "bae5cb27-9af8-4f12-b04a-92b72ae11305",
   "metadata": {
    "execution": {
     "iopub.execute_input": "2025-06-18T17:31:43.732599Z",
     "iopub.status.busy": "2025-06-18T17:31:43.732299Z",
     "iopub.status.idle": "2025-06-18T17:31:43.743419Z",
     "shell.execute_reply": "2025-06-18T17:31:43.742626Z",
     "shell.execute_reply.started": "2025-06-18T17:31:43.732576Z"
    }
   },
   "outputs": [
    {
     "name": "stdout",
     "output_type": "stream",
     "text": [
      "Average Noise Levels by Station with Coordinates:\n",
      "  station_id  daily_avg_noise  longitude  latitude\n",
      "2     160005            90.25     -77.51     38.14\n",
      "1     140004            89.72     -77.46     37.82\n",
      "3     160308            89.60     -77.46     37.89\n",
      "0     060170            89.25     -77.52     38.12\n",
      "4     792625            76.76     -77.49     37.98\n"
     ]
    }
   ],
   "source": [
    "# Calculate average noise levels by station including coordinates\n",
    "station_noise_avg = (traffic.groupby('station_id')\n",
    "                    .agg({\n",
    "                        'daily_avg_noise': 'mean',\n",
    "                        'longitude': 'first',  # Take first occurrence since coordinates are constant\n",
    "                        'latitude': 'first'\n",
    "                    })\n",
    "                    .round(2)  # Round to 2 decimal places\n",
    "                    .reset_index()\n",
    "                    .sort_values('daily_avg_noise', ascending=False))\n",
    "\n",
    "# Display results\n",
    "print(\"Average Noise Levels by Station with Coordinates:\")\n",
    "print(station_noise_avg)"
   ]
  },
  {
   "cell_type": "markdown",
   "id": "eb86ddb6-6a4a-4e10-af34-aeeb2d964e9c",
   "metadata": {},
   "source": [
    "#### Filter bird data based on scoped area"
   ]
  },
  {
   "cell_type": "code",
   "execution_count": 56,
   "id": "5d974878-50bd-4031-9a51-ae49f50abccd",
   "metadata": {
    "execution": {
     "iopub.execute_input": "2025-06-18T17:32:08.159996Z",
     "iopub.status.busy": "2025-06-18T17:32:08.158686Z",
     "iopub.status.idle": "2025-06-18T17:32:08.165427Z",
     "shell.execute_reply": "2025-06-18T17:32:08.164552Z",
     "shell.execute_reply.started": "2025-06-18T17:32:08.159963Z"
    }
   },
   "outputs": [],
   "source": [
    "station_noise_avg.to_json('stationsInScope.json', orient='records', indent=4)"
   ]
  },
  {
   "cell_type": "code",
   "execution_count": 58,
   "id": "a78f4d72-f368-4e13-9c1d-cb0165a6ac3f",
   "metadata": {
    "execution": {
     "iopub.execute_input": "2025-06-18T17:34:37.621911Z",
     "iopub.status.busy": "2025-06-18T17:34:37.621644Z",
     "iopub.status.idle": "2025-06-18T17:34:37.627913Z",
     "shell.execute_reply": "2025-06-18T17:34:37.626841Z",
     "shell.execute_reply.started": "2025-06-18T17:34:37.621890Z"
    }
   },
   "outputs": [
    {
     "name": "stdout",
     "output_type": "stream",
     "text": [
      "[\n",
      "  {\n",
      "    \"station_id\": \"160005\",\n",
      "    \"daily_avg_noise\": 90.25,\n",
      "    \"longitude\": -77.51,\n",
      "    \"latitude\": 38.14\n",
      "  },\n",
      "  {\n",
      "    \"station_id\": \"140004\",\n",
      "    \"daily_avg_noise\": 89.72,\n",
      "    \"longitude\": -77.46,\n",
      "    \"latitude\": 37.82\n",
      "  },\n",
      "  {\n",
      "    \"station_id\": \"160308\",\n",
      "    \"daily_avg_noise\": 89.6,\n",
      "    \"longitude\": -77.46,\n",
      "    \"latitude\": 37.89\n",
      "  },\n",
      "  {\n",
      "    \"station_id\": \"060170\",\n",
      "    \"daily_avg_noise\": 89.25,\n",
      "    \"longitude\": -77.52,\n",
      "    \"latitude\": 38.12\n",
      "  },\n",
      "  {\n",
      "    \"station_id\": \"792625\",\n",
      "    \"daily_avg_noise\": 76.76,\n",
      "    \"longitude\": -77.49,\n",
      "    \"latitude\": 37.98\n",
      "  }\n",
      "]\n"
     ]
    }
   ],
   "source": [
    "# Method 1: Basic reading\n",
    "try:\n",
    "    with open('stationsInScope.json', 'r', encoding='utf-8') as file:\n",
    "        stations_data = json.load(file)\n",
    "    print(json.dumps(stations_data, indent=2))  # Pretty print the data\n",
    "except FileNotFoundError:\n",
    "    print(\"File not found: stationsInScope.json\")\n",
    "except json.JSONDecodeError as e:\n",
    "    print(f\"Error decoding JSON: {e}\")\n",
    "except Exception as e:\n",
    "    print(f\"An error occurred: {e}\")"
   ]
  },
  {
   "cell_type": "markdown",
   "id": "d0f51fa3-d570-4ca0-9db5-0d5697213c9c",
   "metadata": {
    "execution": {
     "iopub.execute_input": "2025-06-17T20:37:52.658469Z",
     "iopub.status.busy": "2025-06-17T20:37:52.657987Z",
     "iopub.status.idle": "2025-06-17T20:37:52.661504Z",
     "shell.execute_reply": "2025-06-17T20:37:52.660741Z",
     "shell.execute_reply.started": "2025-06-17T20:37:52.658445Z"
    }
   },
   "source": [
    "#### Number of bird observations per station"
   ]
  },
  {
   "cell_type": "code",
   "execution_count": 28,
   "id": "9d9d439e-51e6-4ae8-8377-0ce192f0a6bd",
   "metadata": {
    "execution": {
     "iopub.execute_input": "2025-06-18T17:10:28.549820Z",
     "iopub.status.busy": "2025-06-18T17:10:28.549438Z",
     "iopub.status.idle": "2025-06-18T17:10:28.572508Z",
     "shell.execute_reply": "2025-06-18T17:10:28.571457Z",
     "shell.execute_reply.started": "2025-06-18T17:10:28.549788Z"
    }
   },
   "outputs": [
    {
     "data": {
      "text/html": [
       "<div>\n",
       "<style scoped>\n",
       "    .dataframe tbody tr th:only-of-type {\n",
       "        vertical-align: middle;\n",
       "    }\n",
       "\n",
       "    .dataframe tbody tr th {\n",
       "        vertical-align: top;\n",
       "    }\n",
       "\n",
       "    .dataframe thead th {\n",
       "        text-align: right;\n",
       "    }\n",
       "</style>\n",
       "<table border=\"1\" class=\"dataframe\">\n",
       "  <thead>\n",
       "    <tr style=\"text-align: right;\">\n",
       "      <th></th>\n",
       "      <th>station_id</th>\n",
       "      <th>daily_avg_noise</th>\n",
       "      <th>longitude</th>\n",
       "      <th>latitude</th>\n",
       "      <th>bird_observations</th>\n",
       "    </tr>\n",
       "  </thead>\n",
       "  <tbody>\n",
       "    <tr>\n",
       "      <th>2</th>\n",
       "      <td>160005</td>\n",
       "      <td>90.25</td>\n",
       "      <td>-77.51</td>\n",
       "      <td>38.14</td>\n",
       "      <td>122</td>\n",
       "    </tr>\n",
       "    <tr>\n",
       "      <th>1</th>\n",
       "      <td>140004</td>\n",
       "      <td>89.72</td>\n",
       "      <td>-77.46</td>\n",
       "      <td>37.82</td>\n",
       "      <td>290</td>\n",
       "    </tr>\n",
       "    <tr>\n",
       "      <th>3</th>\n",
       "      <td>160308</td>\n",
       "      <td>89.60</td>\n",
       "      <td>-77.46</td>\n",
       "      <td>37.89</td>\n",
       "      <td>126</td>\n",
       "    </tr>\n",
       "    <tr>\n",
       "      <th>0</th>\n",
       "      <td>060170</td>\n",
       "      <td>89.25</td>\n",
       "      <td>-77.52</td>\n",
       "      <td>38.12</td>\n",
       "      <td>91</td>\n",
       "    </tr>\n",
       "    <tr>\n",
       "      <th>4</th>\n",
       "      <td>792625</td>\n",
       "      <td>76.76</td>\n",
       "      <td>-77.49</td>\n",
       "      <td>37.98</td>\n",
       "      <td>208</td>\n",
       "    </tr>\n",
       "  </tbody>\n",
       "</table>\n",
       "</div>"
      ],
      "text/plain": [
       "  station_id  daily_avg_noise  longitude  latitude  bird_observations\n",
       "2     160005            90.25     -77.51     38.14                122\n",
       "1     140004            89.72     -77.46     37.82                290\n",
       "3     160308            89.60     -77.46     37.89                126\n",
       "0     060170            89.25     -77.52     38.12                 91\n",
       "4     792625            76.76     -77.49     37.98                208"
      ]
     },
     "execution_count": 28,
     "metadata": {},
     "output_type": "execute_result"
    }
   ],
   "source": [
    "np.random.seed(42)  # For reproducibility\n",
    "station_noise_avg['bird_observations'] = np.random.randint(20, 301, size=len(station_noise_avg))\n",
    "station_noise_avg"
   ]
  },
  {
   "cell_type": "code",
   "execution_count": 30,
   "id": "98e88bed-af2c-45ac-94aa-ec6c6273ce75",
   "metadata": {
    "execution": {
     "iopub.execute_input": "2025-06-18T17:31:21.430669Z",
     "iopub.status.busy": "2025-06-18T17:31:21.430058Z",
     "iopub.status.idle": "2025-06-18T17:31:21.449361Z",
     "shell.execute_reply": "2025-06-18T17:31:21.448245Z",
     "shell.execute_reply.started": "2025-06-18T17:31:21.430644Z"
    }
   },
   "outputs": [
    {
     "ename": "NameError",
     "evalue": "name 'stations_noise_avg' is not defined",
     "output_type": "error",
     "traceback": [
      "\u001b[0;31m---------------------------------------------------------------------------\u001b[0m",
      "\u001b[0;31mNameError\u001b[0m                                 Traceback (most recent call last)",
      "Cell \u001b[0;32mIn[30], line 1\u001b[0m\n\u001b[0;32m----> 1\u001b[0m \u001b[43mstations_noise_avg\u001b[49m\u001b[38;5;241m.\u001b[39mto_json(\u001b[38;5;124m'\u001b[39m\u001b[38;5;124mstationsInScope.json\u001b[39m\u001b[38;5;124m'\u001b[39m, orient\u001b[38;5;241m=\u001b[39m\u001b[38;5;124m'\u001b[39m\u001b[38;5;124mrecords\u001b[39m\u001b[38;5;124m'\u001b[39m, indent\u001b[38;5;241m=\u001b[39m\u001b[38;5;241m4\u001b[39m)\n",
      "\u001b[0;31mNameError\u001b[0m: name 'stations_noise_avg' is not defined"
     ]
    }
   ],
   "source": []
  },
  {
   "cell_type": "markdown",
   "id": "72531eb2-865e-4c5b-a679-5fe5c6bd9867",
   "metadata": {},
   "source": [
    "#### Scoped area"
   ]
  },
  {
   "cell_type": "code",
   "execution_count": 29,
   "id": "39538580-2e8a-4592-b1ff-7d676f6fe664",
   "metadata": {
    "execution": {
     "iopub.execute_input": "2025-06-18T17:10:32.550008Z",
     "iopub.status.busy": "2025-06-18T17:10:32.549652Z",
     "iopub.status.idle": "2025-06-18T17:10:32.556312Z",
     "shell.execute_reply": "2025-06-18T17:10:32.555713Z",
     "shell.execute_reply.started": "2025-06-18T17:10:32.549985Z"
    }
   },
   "outputs": [],
   "source": [
    "top_coord = (38.20869849463392, -77.498061264592)    \n",
    "bottom_coord = (37.69676499199098, -77.45031120265044)  \n",
    "path_coordinates = list(zip(scoped_stations['latitude'], scoped_stations['longitude']))\n",
    "\n",
    "# create bounded area and bounded polygon\n",
    "bounded_area, bounded_polygon = create_bounded_polygon(\n",
    "    top_coordinate=top_coord,\n",
    "    bottom_coordinate=bottom_coord,\n",
    "    path_coordinates=path_coordinates,\n",
    "    buffer_miles=5,\n",
    "    color='blue',\n",
    "    fill_color='blue'\n",
    ")"
   ]
  },
  {
   "cell_type": "markdown",
   "id": "cdcb60c8-0653-4210-a6f2-b25bafa5e679",
   "metadata": {
    "execution": {
     "iopub.execute_input": "2025-06-17T19:51:20.523851Z",
     "iopub.status.busy": "2025-06-17T19:51:20.523208Z",
     "iopub.status.idle": "2025-06-17T19:51:20.526848Z",
     "shell.execute_reply": "2025-06-17T19:51:20.526222Z",
     "shell.execute_reply.started": "2025-06-17T19:51:20.523820Z"
    }
   },
   "source": [
    "### Create Map"
   ]
  },
  {
   "cell_type": "code",
   "execution_count": 92,
   "id": "a9f93e0c-7112-4ce1-a0c7-9bd16c179bef",
   "metadata": {
    "execution": {
     "iopub.execute_input": "2025-06-17T21:59:29.105451Z",
     "iopub.status.busy": "2025-06-17T21:59:29.105165Z",
     "iopub.status.idle": "2025-06-17T21:59:29.154019Z",
     "shell.execute_reply": "2025-06-17T21:59:29.153345Z",
     "shell.execute_reply.started": "2025-06-17T21:59:29.105429Z"
    }
   },
   "outputs": [],
   "source": [
    "\n",
    "# Create a folium map centered on the middle of the path\n",
    "center_lat = (top_coord[0] + bottom_coord[0]) / 2\n",
    "center_lon = (top_coord[1] + bottom_coord[1]) / 2\n",
    "\n",
    "m = folium.Map(\n",
    "    location=[center_lat, center_lon],\n",
    "    zoom_start=10,\n",
    "    tiles='openstreetmap'\n",
    ")\n",
    "\n",
    "bounded_area.add_to(m)\n",
    "\n",
    "# Create a feature group for the detailed route\n",
    "route_group = folium.FeatureGroup(name='I-95 Detailed Route')\n",
    "\n",
    "# Draw I-95 as a line with the detailed coordinates\n",
    "folium.PolyLine(\n",
    "    path_coordinates,\n",
    "    weight=3,\n",
    "    color='blue',\n",
    "    opacity=0.8,\n",
    "    popup='Interstate 95'\n",
    ").add_to(route_group)\n",
    "\n",
    "stations_layer=create_point_layer(station_noise_avg,latitude='latitude', longitude='longitude', id= 'station_id',bird_observations='bird_observations', traffic_noise='daily_avg_noise' )\n",
    "# bird_layer = add_df_point_to_map(df, m)\n",
    "\n",
    "# Add additional map features with proper attribution\n",
    "# folium.TileLayer('cartodbpositron', name='Light Map').add_to(m)\n",
    "# folium.TileLayer('cartodbdark_matter', name='Dark Map').add_to(m)\n",
    "\n",
    "# ESRI Terrain\n",
    "folium.TileLayer(\n",
    "    tiles='https://server.arcgisonline.com/ArcGIS/rest/services/World_Terrain_Base/MapServer/tile/{z}/{y}/{x}',\n",
    "    attr='Esri',\n",
    "    name='ESRI Terrain'\n",
    ").add_to(m)\n",
    "\n",
    "# OpenTopoMap with attribution\n",
    "folium.TileLayer(\n",
    "    'OpenTopoMap',\n",
    "    name='Topography',\n",
    "    attr='Map data: &copy; OpenStreetMap contributors, &copy; OpenTopoMap'\n",
    ").add_to(m)\n",
    "\n",
    "# Add map controls\n",
    "stations_layer.add_to(m)\n",
    "# bird_layer.add_to(m)\n",
    "plugins.Fullscreen().add_to(m)\n",
    "plugins.MousePosition().add_to(m)\n",
    "plugins.MeasureControl().add_to(m)\n",
    "folium.LayerControl().add_to(m)\n",
    "\n",
    "# Add a mini map\n",
    "minimap = plugins.MiniMap()\n",
    "m.add_child(minimap)\n",
    "\n",
    "# Add a title\n",
    "title_html = '''\n",
    "<div style=\"position: fixed; \n",
    "    top: 10px; left: 50px; width: 200px; height: 50px; \n",
    "    background-color: white; border:2px solid grey; z-index:9999; \n",
    "    font-size:16px; padding: 10px\">\n",
    "    <b>Highway Noise and Bird Observations</b>\n",
    "</div>\n",
    "'''\n",
    "m.get_root().html.add_child(folium.Element(title_html))\n",
    "\n",
    "# Save the map\n",
    "m.save('i95_detailed_route_map.html')"
   ]
  },
  {
   "cell_type": "markdown",
   "id": "a3953e3f-f3d8-49c2-b3b9-866144556e51",
   "metadata": {},
   "source": [
    "#### Create Slicers"
   ]
  },
  {
   "cell_type": "code",
   "execution_count": 81,
   "id": "960f4cda-b8e4-4a9c-85ab-74036d3853a7",
   "metadata": {
    "execution": {
     "iopub.execute_input": "2025-06-17T21:42:39.076513Z",
     "iopub.status.busy": "2025-06-17T21:42:39.075764Z",
     "iopub.status.idle": "2025-06-17T21:42:39.083953Z",
     "shell.execute_reply": "2025-06-17T21:42:39.083188Z",
     "shell.execute_reply.started": "2025-06-17T21:42:39.076485Z"
    }
   },
   "outputs": [],
   "source": [
    "# Create sliders\n",
    "noise_slider = FloatSlider(\n",
    "    value=station_noise_avg['daily_avg_noise'].mean(),\n",
    "    min=station_noise_avg['daily_avg_noise'].min(),\n",
    "    max=station_noise_avg['daily_avg_noise'].max(),\n",
    "    step=0.5,\n",
    "    description='Max Noise:',\n",
    "    continuous_update=False,\n",
    "    layout=Layout(width='500px')\n",
    ")\n",
    "\n",
    "bird_slider = FloatSlider(\n",
    "    value=station_noise_avg['bird_observations'].mean(),\n",
    "    min=station_noise_avg['bird_observations'].min(),\n",
    "    max=station_noise_avg['bird_observations'].max(),\n",
    "    step=5,\n",
    "    description='Birds:',\n",
    "    continuous_update=False,\n",
    "    layout=Layout(width='500px')\n",
    ")"
   ]
  },
  {
   "cell_type": "code",
   "execution_count": 91,
   "id": "5c6a7303-2832-419f-8b42-728c054d17f5",
   "metadata": {
    "execution": {
     "iopub.execute_input": "2025-06-17T21:59:21.640956Z",
     "iopub.status.busy": "2025-06-17T21:59:21.640566Z",
     "iopub.status.idle": "2025-06-17T21:59:21.697995Z",
     "shell.execute_reply": "2025-06-17T21:59:21.696918Z",
     "shell.execute_reply.started": "2025-06-17T21:59:21.640934Z"
    }
   },
   "outputs": [
    {
     "name": "stderr",
     "output_type": "stream",
     "text": [
      "/tmp/ipykernel_181/2368672039.py:35: RuntimeWarning: invalid value encountered in scalar divide\n",
      "  return 5 + ((value - min_birds) / (max_birds - min_birds)) * 20\n",
      "/tmp/ipykernel_181/2368672039.py:39: RuntimeWarning: invalid value encountered in scalar divide\n",
      "  normalized = (value - min_noise) / (max_noise - min_noise)\n"
     ]
    },
    {
     "ename": "ValueError",
     "evalue": "cannot convert float NaN to integer",
     "output_type": "error",
     "traceback": [
      "\u001b[0;31m---------------------------------------------------------------------------\u001b[0m",
      "\u001b[0;31mValueError\u001b[0m                                Traceback (most recent call last)",
      "Cell \u001b[0;32mIn[91], line 9\u001b[0m\n\u001b[1;32m      2\u001b[0m m \u001b[38;5;241m=\u001b[39m folium\u001b[38;5;241m.\u001b[39mMap(\n\u001b[1;32m      3\u001b[0m     location\u001b[38;5;241m=\u001b[39m[station_noise_avg[\u001b[38;5;124m'\u001b[39m\u001b[38;5;124mlatitude\u001b[39m\u001b[38;5;124m'\u001b[39m]\u001b[38;5;241m.\u001b[39mmean(), \n\u001b[1;32m      4\u001b[0m               station_noise_avg[\u001b[38;5;124m'\u001b[39m\u001b[38;5;124mlongitude\u001b[39m\u001b[38;5;124m'\u001b[39m]\u001b[38;5;241m.\u001b[39mmean()],\n\u001b[1;32m      5\u001b[0m     zoom_start\u001b[38;5;241m=\u001b[39m\u001b[38;5;241m10\u001b[39m\n\u001b[1;32m      6\u001b[0m )\n\u001b[1;32m      8\u001b[0m \u001b[38;5;66;03m# Add initial layer\u001b[39;00m\n\u001b[0;32m----> 9\u001b[0m filtered_layer \u001b[38;5;241m=\u001b[39m \u001b[43mcreate_filtered_layer\u001b[49m\u001b[43m(\u001b[49m\n\u001b[1;32m     10\u001b[0m \u001b[43m    \u001b[49m\u001b[43mnoise_slider\u001b[49m\u001b[38;5;241;43m.\u001b[39;49m\u001b[43mvalue\u001b[49m\u001b[43m,\u001b[49m\u001b[43m \u001b[49m\n\u001b[1;32m     11\u001b[0m \u001b[43m    \u001b[49m\u001b[43mbird_slider\u001b[49m\u001b[38;5;241;43m.\u001b[39;49m\u001b[43mvalue\u001b[49m\u001b[43m,\u001b[49m\n\u001b[1;32m     12\u001b[0m \u001b[43m    \u001b[49m\u001b[43mdf\u001b[49m\u001b[38;5;241;43m=\u001b[39;49m\u001b[43mstation_noise_avg\u001b[49m\u001b[43m  \u001b[49m\u001b[38;5;66;43;03m# Pass the original dataframe\u001b[39;49;00m\n\u001b[1;32m     13\u001b[0m \u001b[43m)\u001b[49m\n\u001b[1;32m     14\u001b[0m filtered_layer\u001b[38;5;241m.\u001b[39madd_to(m)\n\u001b[1;32m     16\u001b[0m \u001b[38;5;28;01mdef\u001b[39;00m\u001b[38;5;250m \u001b[39m\u001b[38;5;21mupdate_map\u001b[39m(noise_threshold, bird_threshold):\n\u001b[1;32m     17\u001b[0m     \u001b[38;5;66;03m# Remove old layer using layer_name\u001b[39;00m\n",
      "Cell \u001b[0;32mIn[80], line 20\u001b[0m, in \u001b[0;36mcreate_filtered_layer\u001b[0;34m(noise_threshold, bird_threshold, df)\u001b[0m\n\u001b[1;32m     14\u001b[0m filtered_df \u001b[38;5;241m=\u001b[39m df[\n\u001b[1;32m     15\u001b[0m     (df[\u001b[38;5;124m'\u001b[39m\u001b[38;5;124mdaily_avg_noise\u001b[39m\u001b[38;5;124m'\u001b[39m] \u001b[38;5;241m<\u001b[39m\u001b[38;5;241m=\u001b[39m noise_threshold) \u001b[38;5;241m&\u001b[39m \n\u001b[1;32m     16\u001b[0m     (df[\u001b[38;5;124m'\u001b[39m\u001b[38;5;124mbird_observations\u001b[39m\u001b[38;5;124m'\u001b[39m] \u001b[38;5;241m>\u001b[39m\u001b[38;5;241m=\u001b[39m bird_threshold)\n\u001b[1;32m     17\u001b[0m ]\n\u001b[1;32m     19\u001b[0m \u001b[38;5;66;03m# Create and return filtered point layer\u001b[39;00m\n\u001b[0;32m---> 20\u001b[0m \u001b[38;5;28;01mreturn\u001b[39;00m \u001b[43mcreate_point_layer\u001b[49m\u001b[43m(\u001b[49m\n\u001b[1;32m     21\u001b[0m \u001b[43m    \u001b[49m\u001b[43mdf\u001b[49m\u001b[38;5;241;43m=\u001b[39;49m\u001b[43mfiltered_df\u001b[49m\u001b[43m,\u001b[49m\n\u001b[1;32m     22\u001b[0m \u001b[43m    \u001b[49m\u001b[43mlatitude\u001b[49m\u001b[38;5;241;43m=\u001b[39;49m\u001b[38;5;124;43m'\u001b[39;49m\u001b[38;5;124;43mlatitude\u001b[39;49m\u001b[38;5;124;43m'\u001b[39;49m\u001b[43m,\u001b[49m\n\u001b[1;32m     23\u001b[0m \u001b[43m    \u001b[49m\u001b[43mlongitude\u001b[49m\u001b[38;5;241;43m=\u001b[39;49m\u001b[38;5;124;43m'\u001b[39;49m\u001b[38;5;124;43mlongitude\u001b[39;49m\u001b[38;5;124;43m'\u001b[39;49m\u001b[43m,\u001b[49m\n\u001b[1;32m     24\u001b[0m \u001b[43m    \u001b[49m\u001b[38;5;28;43mid\u001b[39;49m\u001b[38;5;241;43m=\u001b[39;49m\u001b[38;5;124;43m'\u001b[39;49m\u001b[38;5;124;43mstation_id\u001b[39;49m\u001b[38;5;124;43m'\u001b[39;49m\u001b[43m,\u001b[49m\n\u001b[1;32m     25\u001b[0m \u001b[43m    \u001b[49m\u001b[43mbird_observations\u001b[49m\u001b[38;5;241;43m=\u001b[39;49m\u001b[38;5;124;43m'\u001b[39;49m\u001b[38;5;124;43mbird_observations\u001b[39;49m\u001b[38;5;124;43m'\u001b[39;49m\u001b[43m,\u001b[49m\n\u001b[1;32m     26\u001b[0m \u001b[43m    \u001b[49m\u001b[43mtraffic_noise\u001b[49m\u001b[38;5;241;43m=\u001b[39;49m\u001b[38;5;124;43m'\u001b[39;49m\u001b[38;5;124;43mdaily_avg_noise\u001b[39;49m\u001b[38;5;124;43m'\u001b[39;49m\n\u001b[1;32m     27\u001b[0m \u001b[43m\u001b[49m\u001b[43m)\u001b[49m\n",
      "Cell \u001b[0;32mIn[90], line 46\u001b[0m, in \u001b[0;36mcreate_point_layer\u001b[0;34m(df, latitude, longitude, id, bird_observations, traffic_noise)\u001b[0m\n\u001b[1;32m     43\u001b[0m \u001b[38;5;28;01mfor\u001b[39;00m idx, row \u001b[38;5;129;01min\u001b[39;00m df\u001b[38;5;241m.\u001b[39miterrows():\n\u001b[1;32m     44\u001b[0m     \u001b[38;5;66;03m# Calculate radius and color\u001b[39;00m\n\u001b[1;32m     45\u001b[0m     radius \u001b[38;5;241m=\u001b[39m scale_radius(row[bird_observations])\n\u001b[0;32m---> 46\u001b[0m     color \u001b[38;5;241m=\u001b[39m \u001b[43mscale_color\u001b[49m\u001b[43m(\u001b[49m\u001b[43mrow\u001b[49m\u001b[43m[\u001b[49m\u001b[43mtraffic_noise\u001b[49m\u001b[43m]\u001b[49m\u001b[43m)\u001b[49m\n\u001b[1;32m     48\u001b[0m     \u001b[38;5;66;03m# Create popup content\u001b[39;00m\n\u001b[1;32m     49\u001b[0m     popup_content \u001b[38;5;241m=\u001b[39m \u001b[38;5;124mf\u001b[39m\u001b[38;5;124m\"\"\"\u001b[39m\n\u001b[1;32m     50\u001b[0m \u001b[38;5;124m        <b>Station ID:</b> \u001b[39m\u001b[38;5;132;01m{\u001b[39;00mrow[\u001b[38;5;28mid\u001b[39m]\u001b[38;5;132;01m}\u001b[39;00m\u001b[38;5;124m<br>\u001b[39m\n\u001b[1;32m     51\u001b[0m \u001b[38;5;124m        <b>Bird Observations:</b> \u001b[39m\u001b[38;5;132;01m{\u001b[39;00mrow[bird_observations]\u001b[38;5;132;01m}\u001b[39;00m\u001b[38;5;124m<br>\u001b[39m\n\u001b[1;32m     52\u001b[0m \u001b[38;5;124m        <b>Traffic Noise:</b> \u001b[39m\u001b[38;5;132;01m{\u001b[39;00mrow[traffic_noise]\u001b[38;5;132;01m:\u001b[39;00m\u001b[38;5;124m.2f\u001b[39m\u001b[38;5;132;01m}\u001b[39;00m\u001b[38;5;124m<br>\u001b[39m\n\u001b[1;32m     53\u001b[0m \u001b[38;5;124m    \u001b[39m\u001b[38;5;124m\"\"\"\u001b[39m\n",
      "Cell \u001b[0;32mIn[90], line 40\u001b[0m, in \u001b[0;36mcreate_point_layer.<locals>.scale_color\u001b[0;34m(value)\u001b[0m\n\u001b[1;32m     37\u001b[0m \u001b[38;5;28;01mdef\u001b[39;00m\u001b[38;5;250m \u001b[39m\u001b[38;5;21mscale_color\u001b[39m(value):\n\u001b[1;32m     38\u001b[0m     \u001b[38;5;66;03m# Create color scale from green (quiet) to red (noisy)\u001b[39;00m\n\u001b[1;32m     39\u001b[0m     normalized \u001b[38;5;241m=\u001b[39m (value \u001b[38;5;241m-\u001b[39m min_noise) \u001b[38;5;241m/\u001b[39m (max_noise \u001b[38;5;241m-\u001b[39m min_noise)\n\u001b[0;32m---> 40\u001b[0m     \u001b[38;5;28;01mreturn\u001b[39;00m \u001b[38;5;124mf\u001b[39m\u001b[38;5;124m'\u001b[39m\u001b[38;5;124m#\u001b[39m\u001b[38;5;132;01m{\u001b[39;00m\u001b[38;5;28;43mint\u001b[39;49m\u001b[43m(\u001b[49m\u001b[38;5;241;43m255\u001b[39;49m\u001b[38;5;250;43m \u001b[39;49m\u001b[38;5;241;43m*\u001b[39;49m\u001b[38;5;250;43m \u001b[39;49m\u001b[43mnormalized\u001b[49m\u001b[43m)\u001b[49m\u001b[38;5;132;01m:\u001b[39;00m\u001b[38;5;124m02x\u001b[39m\u001b[38;5;132;01m}\u001b[39;00m\u001b[38;5;132;01m{\u001b[39;00m\u001b[38;5;28mint\u001b[39m(\u001b[38;5;241m255\u001b[39m\u001b[38;5;250m \u001b[39m\u001b[38;5;241m*\u001b[39m\u001b[38;5;250m \u001b[39m(\u001b[38;5;241m1\u001b[39m\u001b[38;5;241m-\u001b[39mnormalized))\u001b[38;5;132;01m:\u001b[39;00m\u001b[38;5;124m02x\u001b[39m\u001b[38;5;132;01m}\u001b[39;00m\u001b[38;5;124m00\u001b[39m\u001b[38;5;124m'\u001b[39m\n",
      "\u001b[0;31mValueError\u001b[0m: cannot convert float NaN to integer"
     ]
    }
   ],
   "source": [
    "# Create base map\n",
    "m = folium.Map(\n",
    "    location=[station_noise_avg['latitude'].mean(), \n",
    "              station_noise_avg['longitude'].mean()],\n",
    "    zoom_start=10\n",
    ")\n",
    "\n",
    "# Add initial layer\n",
    "filtered_layer = create_filtered_layer(\n",
    "    noise_slider.value, \n",
    "    bird_slider.value,\n",
    "    df=station_noise_avg  # Pass the original dataframe\n",
    ")\n",
    "filtered_layer.add_to(m)\n",
    "\n",
    "def update_map(noise_threshold, bird_threshold):\n",
    "    # Remove old layer using layer_name\n",
    "    for layer in m._children.copy():\n",
    "        if m._children[layer].layer_name == 'filtered_points':\n",
    "            del m._children[layer]\n",
    "            \n",
    "    # Add new filtered layer\n",
    "    new_layer = create_filtered_layer(\n",
    "        noise_threshold, \n",
    "        bird_threshold,\n",
    "        df=station_noise_avg  # Use the original dataframe\n",
    "    )\n",
    "    new_layer.add_to(m)\n",
    "    display(m)\n",
    "\n",
    "# Create interactive controls\n",
    "interactive_controls = interact(\n",
    "    update_map,\n",
    "    noise_threshold=noise_slider,\n",
    "    bird_threshold=bird_slider\n",
    ")\n",
    "\n",
    "# Add a mini map\n",
    "minimap = plugins.MiniMap()\n",
    "m.add_child(minimap)\n",
    "\n",
    "# Add a title\n",
    "title_html = '''\n",
    "<div style=\"position: fixed; \n",
    "    top: 10px; left: 50px; width: 200px; height: 50px; \n",
    "    background-color: white; border:2px solid grey; z-index:9999; \n",
    "    font-size:16px; padding: 10px\">\n",
    "    <b>Highway Noise and Bird Observations</b>\n",
    "</div>\n",
    "'''\n",
    "m.get_root().html.add_child(folium.Element(title_html))\n",
    "\n",
    "# Save the map\n",
    "m.save('map_w_sliders.html')"
   ]
  },
  {
   "cell_type": "markdown",
   "id": "75cb0d26-67c3-4002-b56e-4d80ec32c998",
   "metadata": {},
   "source": [
    "## Other stuff"
   ]
  },
  {
   "cell_type": "code",
   "execution_count": null,
   "id": "f37071e9-2398-4cd5-8015-4c160f2b570f",
   "metadata": {},
   "outputs": [],
   "source": [
    "# Use the bounded_area polygon to filter your data\n",
    "filtered_df = filter_by_bounded_area(df, bounded_polygon)\n",
    "\n",
    "# If you need to filter the stations data:\n",
    "filtered_stations = filter_by_bounded_area(scoped_stations, bounded_area)\n",
    "\n",
    "# Print the number of points inside and outside the bounded area\n",
    "print(f\"Total points: {len(df)}\")\n",
    "print(f\"Points inside bounded area: {len(filtered_df)}\")\n",
    "print(f\"Points outside bounded area: {len(df) - len(filtered_df)}\")"
   ]
  },
  {
   "cell_type": "code",
   "execution_count": 69,
   "id": "716823d1-3231-4415-8c84-ad8809983904",
   "metadata": {
    "execution": {
     "iopub.execute_input": "2025-06-17T20:51:57.654017Z",
     "iopub.status.busy": "2025-06-17T20:51:57.653342Z",
     "iopub.status.idle": "2025-06-17T20:51:57.659267Z",
     "shell.execute_reply": "2025-06-17T20:51:57.658710Z",
     "shell.execute_reply.started": "2025-06-17T20:51:57.653981Z"
    }
   },
   "outputs": [
    {
     "data": {
      "image/svg+xml": [
       "<svg xmlns=\"http://www.w3.org/2000/svg\" xmlns:xlink=\"http://www.w3.org/1999/xlink\" width=\"100.0\" height=\"100.0\" viewBox=\"-77.62890597976559 37.67628765188526 0.29097075688073915 0.5528881828543817\" preserveAspectRatio=\"xMinYMin meet\"><g transform=\"matrix(1,0,0,-1,0,75.90546348662491)\"><path fill-rule=\"evenodd\" fill=\"#66cc99\" stroke=\"#555555\" stroke-width=\"0.011057763657087634\" opacity=\"0.6\" d=\"M -77.58995990425187,38.20869849463392 L -77.60026863965987,38.13873 L -77.60842863965988,38.12208 L -77.58418863965987,37.98311 L -77.55054863965988,37.89196 L -77.54805863965987,37.82411 L -77.55042863965987,37.75417 L -77.54220984231031,37.69676499199098 L -77.35841256299057,37.69676499199098 L -77.36663136034012,37.75417 L -77.36426136034012,37.82411 L -77.36675136034013,37.89196 L -77.40039136034012,37.98311 L -77.42463136034013,38.12208 L -77.41647136034013,38.13873 L -77.40616262493212,38.20869849463392 L -77.58995990425187,38.20869849463392 z\" /></g></svg>"
      ],
      "text/plain": [
       "<POLYGON ((-77.59 38.209, -77.6 38.139, -77.608 38.122, -77.584 37.983, -77....>"
      ]
     },
     "execution_count": 69,
     "metadata": {},
     "output_type": "execute_result"
    }
   ],
   "source": [
    "bounded_polygon"
   ]
  },
  {
   "cell_type": "code",
   "execution_count": 72,
   "id": "66db8f9c-a3e5-40ac-93a0-fa0fa68ee9ff",
   "metadata": {
    "execution": {
     "iopub.execute_input": "2025-06-17T20:54:12.498576Z",
     "iopub.status.busy": "2025-06-17T20:54:12.498286Z",
     "iopub.status.idle": "2025-06-17T20:54:12.504495Z",
     "shell.execute_reply": "2025-06-17T20:54:12.503949Z",
     "shell.execute_reply.started": "2025-06-17T20:54:12.498554Z"
    }
   },
   "outputs": [
    {
     "name": "stdout",
     "output_type": "stream",
     "text": [
      "Successfully saved polygon to bounded_polygon.json\n"
     ]
    }
   ],
   "source": [
    "\n",
    "\n",
    "# Usage\n",
    "save_polygon_to_json(bounded_polygon)"
   ]
  },
  {
   "cell_type": "markdown",
   "id": "d7bf9ef4-6f74-4495-9946-621dc7ba5302",
   "metadata": {},
   "source": [
    "## Reading Parquet"
   ]
  },
  {
   "cell_type": "code",
   "execution_count": null,
   "id": "903254db-6108-4df9-bbcc-68f715b455a7",
   "metadata": {},
   "outputs": [],
   "source": []
  }
 ],
 "metadata": {
  "kernelspec": {
   "display_name": "Python 3 (ipykernel)",
   "language": "python",
   "name": "python3"
  },
  "language_info": {
   "codemirror_mode": {
    "name": "ipython",
    "version": 3
   },
   "file_extension": ".py",
   "mimetype": "text/x-python",
   "name": "python",
   "nbconvert_exporter": "python",
   "pygments_lexer": "ipython3",
   "version": "3.12.9"
  }
 },
 "nbformat": 4,
 "nbformat_minor": 5
}
