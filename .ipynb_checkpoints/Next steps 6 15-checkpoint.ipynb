{
 "cells": [
  {
   "cell_type": "markdown",
   "id": "b57591d8-6fbf-49fb-8080-606582c9ba75",
   "metadata": {},
   "source": [
    "## Next steps\n",
    "1. Filter out section(s) of the highway where we follow similar criteria. (No urban\n",
    "2. Build polygon to call out section we are going to be focusing on.\n",
    "\n",
    "\n",
    "Managing stations:\n",
    "1. Ok to have avg when 2 stations at the same level or within 1 miles.\n",
    "2. Stations noise will have a gradient in between them.\n",
    "\n",
    "Managing observations:\n",
    "1. Measure bird observations to stations. The closest station is the one assigned to the bird.\n",
    "2. Measure distance to the highway will be another feature. "
   ]
  },
  {
   "cell_type": "code",
   "execution_count": null,
   "id": "4e0d4ae2-3312-47f1-a1ab-3649c12fc4ce",
   "metadata": {},
   "outputs": [],
   "source": []
  }
 ],
 "metadata": {
  "kernelspec": {
   "display_name": "Python 3 (ipykernel)",
   "language": "python",
   "name": "python3"
  },
  "language_info": {
   "codemirror_mode": {
    "name": "ipython",
    "version": 3
   },
   "file_extension": ".py",
   "mimetype": "text/x-python",
   "name": "python",
   "nbconvert_exporter": "python",
   "pygments_lexer": "ipython3",
   "version": "3.12.9"
  }
 },
 "nbformat": 4,
 "nbformat_minor": 5
}
