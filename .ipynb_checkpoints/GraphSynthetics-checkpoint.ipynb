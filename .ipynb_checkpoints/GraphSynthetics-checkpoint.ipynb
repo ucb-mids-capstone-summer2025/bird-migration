{
 "cells": [
  {
   "cell_type": "code",
   "execution_count": 6,
   "id": "6ffa3745-9496-48be-a074-def7ce53a208",
   "metadata": {
    "execution": {
     "iopub.execute_input": "2025-06-13T17:30:38.420081Z",
     "iopub.status.busy": "2025-06-13T17:30:38.419806Z",
     "iopub.status.idle": "2025-06-13T17:30:41.018291Z",
     "shell.execute_reply": "2025-06-13T17:30:41.017484Z",
     "shell.execute_reply.started": "2025-06-13T17:30:38.420058Z"
    }
   },
   "outputs": [
    {
     "name": "stdout",
     "output_type": "stream",
     "text": [
      "Collecting folium\n",
      "  Using cached folium-0.19.7-py2.py3-none-any.whl.metadata (4.1 kB)\n",
      "Requirement already satisfied: pandas in /opt/conda/lib/python3.12/site-packages (2.2.3)\n",
      "Collecting branca>=0.6.0 (from folium)\n",
      "  Using cached branca-0.8.1-py3-none-any.whl.metadata (1.5 kB)\n",
      "Requirement already satisfied: jinja2>=2.9 in /opt/conda/lib/python3.12/site-packages (from folium) (3.1.6)\n",
      "Requirement already satisfied: numpy in /opt/conda/lib/python3.12/site-packages (from folium) (1.26.4)\n",
      "Requirement already satisfied: requests in /opt/conda/lib/python3.12/site-packages (from folium) (2.32.3)\n",
      "Requirement already satisfied: xyzservices in /opt/conda/lib/python3.12/site-packages (from folium) (2025.4.0)\n",
      "Requirement already satisfied: python-dateutil>=2.8.2 in /opt/conda/lib/python3.12/site-packages (from pandas) (2.9.0.post0)\n",
      "Requirement already satisfied: pytz>=2020.1 in /opt/conda/lib/python3.12/site-packages (from pandas) (2024.2)\n",
      "Requirement already satisfied: tzdata>=2022.7 in /opt/conda/lib/python3.12/site-packages (from pandas) (2025.2)\n",
      "Requirement already satisfied: MarkupSafe>=2.0 in /opt/conda/lib/python3.12/site-packages (from jinja2>=2.9->folium) (3.0.2)\n",
      "Requirement already satisfied: six>=1.5 in /opt/conda/lib/python3.12/site-packages (from python-dateutil>=2.8.2->pandas) (1.17.0)\n",
      "Requirement already satisfied: charset_normalizer<4,>=2 in /opt/conda/lib/python3.12/site-packages (from requests->folium) (3.4.2)\n",
      "Requirement already satisfied: idna<4,>=2.5 in /opt/conda/lib/python3.12/site-packages (from requests->folium) (3.10)\n",
      "Requirement already satisfied: urllib3<3,>=1.21.1 in /opt/conda/lib/python3.12/site-packages (from requests->folium) (1.26.19)\n",
      "Requirement already satisfied: certifi>=2017.4.17 in /opt/conda/lib/python3.12/site-packages (from requests->folium) (2025.4.26)\n",
      "Using cached folium-0.19.7-py2.py3-none-any.whl (112 kB)\n",
      "Using cached branca-0.8.1-py3-none-any.whl (26 kB)\n",
      "Installing collected packages: branca, folium\n",
      "\u001b[2K   \u001b[90m━━━━━━━━━━━━━━━━━━━━━━━━━━━━━━━━━━━━━━━━\u001b[0m \u001b[32m2/2\u001b[0m [folium]\n",
      "\u001b[1A\u001b[2KSuccessfully installed branca-0.8.1 folium-0.19.7\n"
     ]
    }
   ],
   "source": [
    "!pip install folium pandas"
   ]
  },
  {
   "cell_type": "code",
   "execution_count": 17,
   "id": "3c2d2178-853d-41b2-b028-d8c17640f096",
   "metadata": {
    "execution": {
     "iopub.execute_input": "2025-06-13T17:38:00.118984Z",
     "iopub.status.busy": "2025-06-13T17:38:00.117010Z",
     "iopub.status.idle": "2025-06-13T17:38:00.126499Z",
     "shell.execute_reply": "2025-06-13T17:38:00.123030Z",
     "shell.execute_reply.started": "2025-06-13T17:38:00.118949Z"
    }
   },
   "outputs": [],
   "source": [
    "import boto3\n",
    "import pandas as pd\n",
    "import io\n",
    "from botocore.exceptions import ClientError"
   ]
  },
  {
   "cell_type": "code",
   "execution_count": 18,
   "id": "f6ca4143-61c3-4b3f-bf78-676e1de6913b",
   "metadata": {
    "execution": {
     "iopub.execute_input": "2025-06-13T17:38:00.831289Z",
     "iopub.status.busy": "2025-06-13T17:38:00.830766Z",
     "iopub.status.idle": "2025-06-13T17:38:00.922745Z",
     "shell.execute_reply": "2025-06-13T17:38:00.921981Z",
     "shell.execute_reply.started": "2025-06-13T17:38:00.831260Z"
    }
   },
   "outputs": [
    {
     "name": "stdout",
     "output_type": "stream",
     "text": [
      "DataFrame shape: (24, 10)\n",
      "\n",
      "First few rows:\n",
      "  Segment      Lat     Long  Year  Daily Traffic Volume  % cars  % trucks  \\\n",
      "0      DC  38.9072 -77.0369  2019                200000      40        15   \n",
      "1      DC  38.9072 -77.0369  2020                150000      45        10   \n",
      "2      DC  38.9072 -77.0369  2021                170000      42        15   \n",
      "3      DC  38.9072 -77.0369  2022                190000      38        15   \n",
      "4      DC  38.9072 -77.0369  2023                204000      36        15   \n",
      "\n",
      "   % suvs   Noise level (db)  total_birds  \n",
      "0       45         75.560300       2776.0  \n",
      "1       45         73.910913       1376.0  \n",
      "2       43         74.794489       3576.0  \n",
      "3       47         75.397536       1266.0  \n",
      "4       49         75.766302       2141.0  \n"
     ]
    }
   ],
   "source": [
    "def read_csv_from_s3_with_options(bucket_name, file_key, **kwargs):\n",
    "    \"\"\"\n",
    "    Enhanced version with additional pandas read_csv options\n",
    "    \n",
    "    Parameters:\n",
    "    bucket_name (str): Name of the S3 bucket\n",
    "    file_key (str): Path to the CSV file in the bucket\n",
    "    **kwargs: Additional arguments to pass to pd.read_csv()\n",
    "    \n",
    "    Returns:\n",
    "    pandas.DataFrame: DataFrame containing the CSV data\n",
    "    \"\"\"\n",
    "    try:\n",
    "        # Create an S3 client\n",
    "        s3_client = boto3.client('s3')\n",
    "        \n",
    "        # Get the object from S3\n",
    "        response = s3_client.get_object(Bucket=bucket_name, Key=file_key)\n",
    "        \n",
    "        # Read the CSV content with additional options\n",
    "        df = pd.read_csv(io.BytesIO(response['Body'].read()), **kwargs)\n",
    "        \n",
    "        return df\n",
    "    \n",
    "    except Exception as e:\n",
    "        print(f\"Error reading CSV file from S3: {str(e)}\")\n",
    "        raise\n",
    "\n",
    "# Example usage with options\n",
    "if __name__ == \"__main__\":\n",
    "    try:\n",
    "        bucket_name = \"birdsbucker\"\n",
    "        file_key = \"trainingdata/training_data.csv\"\n",
    "        \n",
    "        # Example with additional pandas read_csv options\n",
    "        df = read_csv_from_s3_with_options(\n",
    "            bucket_name,\n",
    "            file_key,\n",
    "            delimiter=',',\n",
    "            encoding='utf-8',\n",
    "            na_values=['NA', 'missing']\n",
    "        )\n",
    "        \n",
    "        print(\"DataFrame shape:\", df.shape)\n",
    "        print(\"\\nFirst few rows:\")\n",
    "        print(df.head())\n",
    "        \n",
    "    except Exception as e:\n",
    "        print(f\"Error in main: {str(e)}\")"
   ]
  },
  {
   "cell_type": "code",
   "execution_count": 35,
   "id": "8b3653ac-e8f9-4657-a8ba-3c1e787f5b86",
   "metadata": {
    "execution": {
     "iopub.execute_input": "2025-06-13T17:55:01.253917Z",
     "iopub.status.busy": "2025-06-13T17:55:01.253228Z",
     "iopub.status.idle": "2025-06-13T17:55:01.260158Z",
     "shell.execute_reply": "2025-06-13T17:55:01.259231Z",
     "shell.execute_reply.started": "2025-06-13T17:55:01.253885Z"
    }
   },
   "outputs": [],
   "source": [
    "def scale_radius(bird_count, min_birds, max_birds):\n",
    "    \"\"\"Scale the radius of circles based on bird count\"\"\"\n",
    "    min_radius = 2\n",
    "    max_radius = 20\n",
    "    return min_radius + (max_radius - min_radius) * ((bird_count - min_birds) / (max_birds - min_birds))\n",
    "\n",
    "def get_color(bird_count):\n",
    "    \"\"\"Return color based on bird count ranges\"\"\"\n",
    "    # Calculate quartiles for better distribution\n",
    "    q1 = df['total_birds'].quantile(0.25)\n",
    "    q2 = df['total_birds'].quantile(0.5)\n",
    "    q3 = df['total_birds'].quantile(0.75)\n",
    "    \n",
    "    if bird_count <= q1:\n",
    "        return '#d7191c'  # Red'\n",
    "    elif bird_count <= q2:\n",
    "        return 'fdae61'  # Orange\n",
    "    elif bird_count <= q3:\n",
    "        return '2b83ba'  # Light blue'\n",
    "    else:\n",
    "        return '#abdda4'  # Light green"
   ]
  },
  {
   "cell_type": "code",
   "execution_count": 36,
   "id": "88a59904-b551-4851-b90e-e34c2d2d875e",
   "metadata": {
    "execution": {
     "iopub.execute_input": "2025-06-13T17:55:01.817123Z",
     "iopub.status.busy": "2025-06-13T17:55:01.812113Z",
     "iopub.status.idle": "2025-06-13T17:55:01.841031Z",
     "shell.execute_reply": "2025-06-13T17:55:01.840243Z",
     "shell.execute_reply.started": "2025-06-13T17:55:01.817085Z"
    }
   },
   "outputs": [],
   "source": [
    "def add_df_point_to_map(df, m):\n",
    "    \"\"\"\n",
    "    Add points from DataFrame to map with size and color based on total_birds\n",
    "    \n",
    "    Parameters:\n",
    "    df: DataFrame containing latitude, longitude, and total_birds\n",
    "    m: folium Map object\n",
    "    \n",
    "    Returns:\n",
    "    feature_group: Folium FeatureGroup containing all markers\n",
    "    \"\"\"\n",
    "\n",
    "    min_birds = df['total_birds'].min()\n",
    "    max_birds = df['total_birds'].max()\n",
    "    \n",
    "    # Create a feature group for the data points\n",
    "    feature_group = folium.FeatureGroup(name='Bird Observations')\n",
    "    \n",
    "    # Add points to feature group\n",
    "    for idx, row in df.iterrows():\n",
    "        folium.CircleMarker(\n",
    "            location=[row['Lat'], row['Long']],\n",
    "            radius=scale_radius(row['total_birds'], min_birds, max_birds),\n",
    "            color=get_color(row['total_birds']),\n",
    "            fill=True,\n",
    "            fill_color=get_color(row['total_birds']),\n",
    "            fill_opacity=0.7,\n",
    "            popup=f\"Total Birds: {row['total_birds']}\",\n",
    "            tooltip=f\"Location: ({row['Lat']:.2f}, {row['Long']:.2f})\\nTotal Birds: {row['total_birds']}\"\n",
    "        ).add_to(feature_group)\n",
    "    \n",
    "    # Add the feature group to the map\n",
    "    feature_group.add_to(m)\n",
    "    \n",
    "    # Add a legend\n",
    "    legend_html = '''\n",
    "    <div style=\"position: fixed; \n",
    "                bottom: 50px; right: 50px; \n",
    "                border:2px solid grey; z-index:9999; font-size:14px;\n",
    "                background-color: white;\n",
    "                padding: 10px;\n",
    "                border-radius: 5px;\n",
    "                \">\n",
    "    <p><b>Bird Count Legend</b></p>\n",
    "    <p>\n",
    "    <i class=\"fa fa-circle\" style=\"color:blue\"></i> Low<br>\n",
    "    <i class=\"fa fa-circle\" style=\"color:yellow\"></i> Medium<br>\n",
    "    <i class=\"fa fa-circle\" style=\"color:orange\"></i> High<br>\n",
    "    <i class=\"fa fa-circle\" style=\"color:red\"></i> Very High\n",
    "    </p>\n",
    "    </div>\n",
    "    '''\n",
    "    m.get_root().html.add_child(folium.Element(legend_html))\n",
    "    \n",
    "    # Return the feature group\n",
    "    return feature_group"
   ]
  },
  {
   "cell_type": "code",
   "execution_count": 37,
   "id": "b54bfbf5-c78d-4592-b049-e7bb8a6f15b9",
   "metadata": {
    "execution": {
     "iopub.execute_input": "2025-06-13T17:55:02.701642Z",
     "iopub.status.busy": "2025-06-13T17:55:02.701259Z",
     "iopub.status.idle": "2025-06-13T17:55:02.926598Z",
     "shell.execute_reply": "2025-06-13T17:55:02.925066Z",
     "shell.execute_reply.started": "2025-06-13T17:55:02.701617Z"
    }
   },
   "outputs": [],
   "source": [
    "import folium\n",
    "from folium import plugins\n",
    "import numpy as np\n",
    "\n",
    "# Create a map centered roughly on the middle of I-95\n",
    "m = folium.Map(location=[40.0, -75.0], zoom_start=5)\n",
    "\n",
    "# Detailed I-95 coordinates (more waypoints for accurate route)\n",
    "i95_detailed = [\n",
    "    [25.7617, -80.1918],  # Miami, FL\n",
    "    [25.9860, -80.1626],  # North Miami\n",
    "    [26.1224, -80.1373],  # Fort Lauderdale\n",
    "    [26.7153, -80.0534],  # West Palm Beach\n",
    "    [27.3364, -80.2309],  # Fort Pierce\n",
    "    [28.0345, -80.6881],  # Melbourne\n",
    "    [28.5383, -81.3792],  # Orlando\n",
    "    [29.2108, -81.0228],  # Daytona Beach\n",
    "    [29.6516, -81.3279],  # Palatka\n",
    "    [30.3322, -81.6557],  # Jacksonville\n",
    "    [30.8268, -81.9598],  # Brunswick, GA\n",
    "    [31.1499, -81.4914],  # Jekyll Island\n",
    "    [31.9976, -81.1130],  # Savannah\n",
    "    [32.2163, -81.0976],  # Port Wentworth\n",
    "    [32.4829, -81.2332],  # Statesboro\n",
    "    [33.5007, -81.9574],  # Augusta\n",
    "    [34.0007, -81.0348],  # Columbia, SC\n",
    "    [34.2257, -80.6890],  # Camden\n",
    "    [34.6235, -79.9414],  # Bennettsville\n",
    "    [34.7554, -79.4628],  # Lumberton, NC\n",
    "    [35.1540, -78.8986],  # Fayetteville\n",
    "    [35.7796, -78.6382],  # Raleigh\n",
    "    [36.0956, -78.3097],  # Rocky Mount\n",
    "    [36.4615, -77.6527],  # Roanoke Rapids\n",
    "    [36.8529, -76.2856],  # Norfolk, VA\n",
    "    [37.5407, -77.4360],  # Richmond\n",
    "    [38.1854, -77.5514],  # Fredericksburg\n",
    "    [38.9072, -77.0369],  # Washington, DC\n",
    "    [39.2904, -76.6122],  # Baltimore, MD\n",
    "    [39.5695, -75.9375],  # Newark, DE\n",
    "    [39.9526, -75.1652],  # Philadelphia, PA\n",
    "    [40.2206, -74.7597],  # Trenton, NJ\n",
    "    [40.7128, -74.0060],  # New York City, NY\n",
    "    [40.9168, -73.7832],  # New Rochelle\n",
    "    [41.1856, -73.1952],  # Bridgeport, CT\n",
    "    [41.3083, -72.9279],  # New Haven\n",
    "    [41.5232, -72.7009],  # Meriden\n",
    "    [41.7658, -72.6734],  # Hartford\n",
    "    [41.8240, -71.4128],  # Providence, RI\n",
    "    [42.0654, -71.2478],  # Attleboro, MA\n",
    "    [42.3601, -71.0589],  # Boston\n",
    "    [42.7654, -70.9292],  # Newburyport\n",
    "    [43.0718, -70.7626],  # Portsmouth, NH\n",
    "    [43.4971, -70.4134],  # Kennebunk, ME\n",
    "    [43.6591, -70.2568],  # Portland\n",
    "    [44.1002, -69.1092],  # Rockland\n",
    "    [44.8023, -68.7778],  # Bangor\n",
    "    [45.1373, -67.7813],  # Maine Border\n",
    "]\n",
    "\n",
    "# Create a feature group for the detailed route\n",
    "route_group = folium.FeatureGroup(name='I-95 Detailed Route')\n",
    "\n",
    "# Draw I-95 as a line with the detailed coordinates\n",
    "folium.PolyLine(\n",
    "    i95_detailed,\n",
    "    weight=3,\n",
    "    color='blue',\n",
    "    opacity=0.8,\n",
    "    popup='Interstate 95'\n",
    ").add_to(route_group)\n",
    "\n",
    "# Create a feature group for waypoints\n",
    "waypoints_group = folium.FeatureGroup(name='I-95 Waypoints')\n",
    "\n",
    "# # Create a feature group for bird observations\n",
    "# birds_group = folium.FeatureGroup(name='Bird Observations')\n",
    "\n",
    "# # Calculate size scaling for circles\n",
    "# min_birds = df['total_birds'].min()\n",
    "# max_birds = df['total_birds'].max()\n",
    "\n",
    "# Add markers for waypoints\n",
    "for i, coord in enumerate(i95_detailed):\n",
    "    # Create custom HTML popup content\n",
    "    popup_content = f\"\"\"\n",
    "    <div style=\"width: 200px\">\n",
    "        <h4>I-95 Waypoint {i+1}</h4>\n",
    "        <p>Coordinates: {coord[0]:.4f}, {coord[1]:.4f}</p>\n",
    "    </div>\n",
    "    \"\"\"\n",
    "    \n",
    "    # Add marker with custom popup\n",
    "    folium.CircleMarker(\n",
    "        location=coord,\n",
    "        radius=4,\n",
    "        color='red',\n",
    "        fill=True,\n",
    "        fillColor='red',\n",
    "        fillOpacity=0.7,\n",
    "        popup=folium.Popup(popup_content, max_width=300)\n",
    "    ).add_to(waypoints_group)\n",
    "\n",
    "# Add the feature groups to the map\n",
    "route_group.add_to(m)\n",
    "waypoints_group.add_to(m)\n",
    "\n",
    "# df_layer = add_df_points_to_map(\n",
    "#     m,\n",
    "#     df,\n",
    "#     lat_col='Lat',\n",
    "#     lon_col='Long',\n",
    "#     color='purple',\n",
    "#     popup_columns=['Total Birds', 'total_birds']\n",
    "# )\n",
    "bird_layer = add_df_point_to_map(df, m)\n",
    "\n",
    "# Add additional map features\n",
    "folium.TileLayer('cartodbpositron', name='Light Map').add_to(m)\n",
    "folium.TileLayer('cartodbdark_matter', name='Dark Map').add_to(m)\n",
    "folium.TileLayer(\n",
    "    'Stamen Terrain',\n",
    "    name='Terrain Map',\n",
    "    attr='Map tiles by <a href=\"http://stamen.com\">Stamen Design</a>, under <a href=\"http://creativecommons.org/licenses/by/3.0\">CC BY 3.0</a>. Data by <a href=\"http://openstreetmap.org\">OpenStreetMap</a>, under <a href=\"http://www.openstreetmap.org/copyright\">ODbL</a>.'\n",
    ").add_to(m)\n",
    "\n",
    "# Add map controls\n",
    "bird_layer.add_to(m)\n",
    "plugins.Fullscreen().add_to(m)\n",
    "plugins.MousePosition().add_to(m)\n",
    "plugins.MeasureControl().add_to(m)\n",
    "folium.LayerControl().add_to(m)\n",
    "\n",
    "# Add a mini map\n",
    "minimap = plugins.MiniMap()\n",
    "m.add_child(minimap)\n",
    "\n",
    "# Add a title\n",
    "title_html = '''\n",
    "<div style=\"position: fixed; \n",
    "    top: 10px; left: 50px; width: 200px; height: 50px; \n",
    "    background-color: white; border:2px solid grey; z-index:9999; \n",
    "    font-size:16px; padding: 10px\">\n",
    "    <b>Interstate 95 Detailed Route Map</b>\n",
    "</div>\n",
    "'''\n",
    "m.get_root().html.add_child(folium.Element(title_html))\n",
    "\n",
    "# Save the map\n",
    "m.save('i95_detailed_route_map.html')"
   ]
  },
  {
   "cell_type": "code",
   "execution_count": 12,
   "id": "e2a93785-1d55-49aa-9213-08468c21fd30",
   "metadata": {
    "execution": {
     "iopub.execute_input": "2025-06-13T17:30:43.557184Z",
     "iopub.status.busy": "2025-06-13T17:30:43.556655Z",
     "iopub.status.idle": "2025-06-13T17:30:43.561510Z",
     "shell.execute_reply": "2025-06-13T17:30:43.560613Z",
     "shell.execute_reply.started": "2025-06-13T17:30:43.557149Z"
    }
   },
   "outputs": [
    {
     "name": "stdout",
     "output_type": "stream",
     "text": [
      "24\n"
     ]
    }
   ],
   "source": [
    "print(len(df))"
   ]
  },
  {
   "cell_type": "code",
   "execution_count": 13,
   "id": "2840a46f-a655-41b2-8fcd-79239054b366",
   "metadata": {
    "execution": {
     "iopub.execute_input": "2025-06-13T17:30:44.173176Z",
     "iopub.status.busy": "2025-06-13T17:30:44.172482Z",
     "iopub.status.idle": "2025-06-13T17:30:44.185406Z",
     "shell.execute_reply": "2025-06-13T17:30:44.184631Z",
     "shell.execute_reply.started": "2025-06-13T17:30:44.173148Z"
    }
   },
   "outputs": [
    {
     "name": "stdout",
     "output_type": "stream",
     "text": [
      "       Lat     Long\n",
      "0  38.9072 -77.0369\n",
      "1  38.9072 -77.0369\n",
      "2  38.9072 -77.0369\n",
      "3  38.9072 -77.0369\n",
      "4  38.9072 -77.0369\n"
     ]
    }
   ],
   "source": [
    "print(df[['Lat', 'Long']].head())"
   ]
  },
  {
   "cell_type": "code",
   "execution_count": 14,
   "id": "3a471c83-db7c-476d-8492-ce9109cd9c48",
   "metadata": {
    "execution": {
     "iopub.execute_input": "2025-06-13T17:30:44.738728Z",
     "iopub.status.busy": "2025-06-13T17:30:44.737963Z",
     "iopub.status.idle": "2025-06-13T17:30:44.743855Z",
     "shell.execute_reply": "2025-06-13T17:30:44.743268Z",
     "shell.execute_reply.started": "2025-06-13T17:30:44.738699Z"
    }
   },
   "outputs": [
    {
     "name": "stdout",
     "output_type": "stream",
     "text": [
      "Lat     0\n",
      "Long    0\n",
      "dtype: int64\n"
     ]
    }
   ],
   "source": [
    "print(df[['Lat', 'Long']].isna().sum())"
   ]
  },
  {
   "cell_type": "code",
   "execution_count": null,
   "id": "09a0ad62-d3bd-44a1-90b8-d8e4519c2a39",
   "metadata": {},
   "outputs": [],
   "source": []
  }
 ],
 "metadata": {
  "kernelspec": {
   "display_name": "Python 3 (ipykernel)",
   "language": "python",
   "name": "python3"
  },
  "language_info": {
   "codemirror_mode": {
    "name": "ipython",
    "version": 3
   },
   "file_extension": ".py",
   "mimetype": "text/x-python",
   "name": "python",
   "nbconvert_exporter": "python",
   "pygments_lexer": "ipython3",
   "version": "3.12.9"
  }
 },
 "nbformat": 4,
 "nbformat_minor": 5
}
