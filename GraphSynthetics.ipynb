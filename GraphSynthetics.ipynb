{
 "cells": [
  {
   "cell_type": "markdown",
   "id": "8dabdfc3-51ee-451c-9f52-786cc87f995e",
   "metadata": {
    "jp-MarkdownHeadingCollapsed": true
   },
   "source": [
    "### Install dependencies"
   ]
  },
  {
   "cell_type": "code",
   "execution_count": 2,
   "id": "6ffa3745-9496-48be-a074-def7ce53a208",
   "metadata": {
    "execution": {
     "iopub.execute_input": "2025-06-17T19:53:10.464396Z",
     "iopub.status.busy": "2025-06-17T19:53:10.463813Z",
     "iopub.status.idle": "2025-06-17T19:53:15.053199Z",
     "shell.execute_reply": "2025-06-17T19:53:15.052117Z",
     "shell.execute_reply.started": "2025-06-17T19:53:10.464368Z"
    }
   },
   "outputs": [
    {
     "name": "stdout",
     "output_type": "stream",
     "text": [
      "Collecting folium\n",
      "  Using cached folium-0.20.0-py2.py3-none-any.whl.metadata (4.2 kB)\n",
      "Requirement already satisfied: pandas in /opt/conda/lib/python3.12/site-packages (2.2.3)\n",
      "Collecting branca>=0.6.0 (from folium)\n",
      "  Using cached branca-0.8.1-py3-none-any.whl.metadata (1.5 kB)\n",
      "Requirement already satisfied: jinja2>=2.9 in /opt/conda/lib/python3.12/site-packages (from folium) (3.1.6)\n",
      "Requirement already satisfied: numpy in /opt/conda/lib/python3.12/site-packages (from folium) (1.26.4)\n",
      "Requirement already satisfied: requests in /opt/conda/lib/python3.12/site-packages (from folium) (2.32.3)\n",
      "Requirement already satisfied: xyzservices in /opt/conda/lib/python3.12/site-packages (from folium) (2025.4.0)\n",
      "Requirement already satisfied: python-dateutil>=2.8.2 in /opt/conda/lib/python3.12/site-packages (from pandas) (2.9.0.post0)\n",
      "Requirement already satisfied: pytz>=2020.1 in /opt/conda/lib/python3.12/site-packages (from pandas) (2024.2)\n",
      "Requirement already satisfied: tzdata>=2022.7 in /opt/conda/lib/python3.12/site-packages (from pandas) (2025.2)\n",
      "Requirement already satisfied: MarkupSafe>=2.0 in /opt/conda/lib/python3.12/site-packages (from jinja2>=2.9->folium) (3.0.2)\n",
      "Requirement already satisfied: six>=1.5 in /opt/conda/lib/python3.12/site-packages (from python-dateutil>=2.8.2->pandas) (1.17.0)\n",
      "Requirement already satisfied: charset_normalizer<4,>=2 in /opt/conda/lib/python3.12/site-packages (from requests->folium) (3.4.2)\n",
      "Requirement already satisfied: idna<4,>=2.5 in /opt/conda/lib/python3.12/site-packages (from requests->folium) (3.10)\n",
      "Requirement already satisfied: urllib3<3,>=1.21.1 in /opt/conda/lib/python3.12/site-packages (from requests->folium) (1.26.19)\n",
      "Requirement already satisfied: certifi>=2017.4.17 in /opt/conda/lib/python3.12/site-packages (from requests->folium) (2025.4.26)\n",
      "Using cached folium-0.20.0-py2.py3-none-any.whl (113 kB)\n",
      "Using cached branca-0.8.1-py3-none-any.whl (26 kB)\n",
      "Installing collected packages: branca, folium\n",
      "\u001b[2K   \u001b[90m━━━━━━━━━━━━━━━━━━━━━━━━━━━━━━━━━━━━━━━━\u001b[0m \u001b[32m2/2\u001b[0m [folium]\n",
      "\u001b[1A\u001b[2KSuccessfully installed branca-0.8.1 folium-0.20.0\n",
      "Collecting shapely\n",
      "  Using cached shapely-2.1.1-cp312-cp312-manylinux_2_17_x86_64.manylinux2014_x86_64.whl.metadata (6.7 kB)\n",
      "Requirement already satisfied: numpy>=1.21 in /opt/conda/lib/python3.12/site-packages (from shapely) (1.26.4)\n",
      "Using cached shapely-2.1.1-cp312-cp312-manylinux_2_17_x86_64.manylinux2014_x86_64.whl (3.1 MB)\n",
      "Installing collected packages: shapely\n",
      "Successfully installed shapely-2.1.1\n"
     ]
    }
   ],
   "source": [
    "!pip install folium pandas\n",
    "!pip install shapely"
   ]
  },
  {
   "cell_type": "code",
   "execution_count": 77,
   "id": "3c2d2178-853d-41b2-b028-d8c17640f096",
   "metadata": {
    "execution": {
     "iopub.execute_input": "2025-06-17T21:36:09.292289Z",
     "iopub.status.busy": "2025-06-17T21:36:09.291744Z",
     "iopub.status.idle": "2025-06-17T21:36:09.376710Z",
     "shell.execute_reply": "2025-06-17T21:36:09.375842Z",
     "shell.execute_reply.started": "2025-06-17T21:36:09.292261Z"
    }
   },
   "outputs": [],
   "source": [
    "import boto3\n",
    "import pandas as pd\n",
    "import io\n",
    "from botocore.exceptions import ClientError\n",
    "from shapely.geometry import Point, Polygon\n",
    "import math\n",
    "import folium\n",
    "from folium import plugins\n",
    "import numpy as np\n",
    "import folium\n",
    "import pandas as pd\n",
    "from typing import Optional, Union, Tuple\n",
    "import json\n",
    "from ipywidgets import interact, FloatSlider, Layout\n",
    "import ipywidgets as widgets"
   ]
  },
  {
   "cell_type": "markdown",
   "id": "be180fa6-50d2-4d06-99de-73de9bbdb29a",
   "metadata": {},
   "source": [
    "### Support Functions"
   ]
  },
  {
   "cell_type": "markdown",
   "id": "ce58d488-23fd-4238-ade6-aca034f601f3",
   "metadata": {},
   "source": [
    "#### Read CSV"
   ]
  },
  {
   "cell_type": "code",
   "execution_count": 8,
   "id": "f6ca4143-61c3-4b3f-bf78-676e1de6913b",
   "metadata": {
    "execution": {
     "iopub.execute_input": "2025-06-17T19:55:52.748415Z",
     "iopub.status.busy": "2025-06-17T19:55:52.747843Z",
     "iopub.status.idle": "2025-06-17T19:55:52.752161Z",
     "shell.execute_reply": "2025-06-17T19:55:52.751621Z",
     "shell.execute_reply.started": "2025-06-17T19:55:52.748392Z"
    }
   },
   "outputs": [],
   "source": [
    "def read_csv_from_s3_with_options(bucket_name, file_key, **kwargs):\n",
    "    \"\"\"\n",
    "    Enhanced version with additional pandas read_csv options\n",
    "    \n",
    "    Parameters:\n",
    "    bucket_name (str): Name of the S3 bucket\n",
    "    file_key (str): Path to the CSV file in the bucket\n",
    "    **kwargs: Additional arguments to pass to pd.read_csv()\n",
    "    \n",
    "    Returns:\n",
    "    pandas.DataFrame: DataFrame containing the CSV data\n",
    "    \"\"\"\n",
    "    try:\n",
    "        # Create an S3 client\n",
    "        s3_client = boto3.client('s3')\n",
    "        \n",
    "        # Get the object from S3\n",
    "        response = s3_client.get_object(Bucket=bucket_name, Key=file_key)\n",
    "        \n",
    "        # Read the CSV content with additional options\n",
    "        df = pd.read_csv(io.BytesIO(response['Body'].read()), **kwargs)\n",
    "        \n",
    "        return df\n",
    "    \n",
    "    except Exception as e:\n",
    "        print(f\"Error reading CSV file from S3: {str(e)}\")\n",
    "        raise\n",
    "\n"
   ]
  },
  {
   "cell_type": "markdown",
   "id": "7843db0b-8aeb-4f70-b6e0-4c1bcaf7b9aa",
   "metadata": {
    "execution": {
     "iopub.execute_input": "2025-06-17T17:40:26.657631Z",
     "iopub.status.busy": "2025-06-17T17:40:26.657004Z",
     "iopub.status.idle": "2025-06-17T17:40:26.660456Z",
     "shell.execute_reply": "2025-06-17T17:40:26.659709Z",
     "shell.execute_reply.started": "2025-06-17T17:40:26.657603Z"
    }
   },
   "source": [
    "#### Adjust radius and color for maps depending on values"
   ]
  },
  {
   "cell_type": "code",
   "execution_count": 9,
   "id": "8b3653ac-e8f9-4657-a8ba-3c1e787f5b86",
   "metadata": {
    "execution": {
     "iopub.execute_input": "2025-06-17T19:55:54.074155Z",
     "iopub.status.busy": "2025-06-17T19:55:54.073474Z",
     "iopub.status.idle": "2025-06-17T19:55:54.078478Z",
     "shell.execute_reply": "2025-06-17T19:55:54.077764Z",
     "shell.execute_reply.started": "2025-06-17T19:55:54.074130Z"
    }
   },
   "outputs": [],
   "source": [
    "def scale_radius(bird_count, min_birds, max_birds):\n",
    "    \"\"\"Scale the radius of circles based on bird count\"\"\"\n",
    "    min_radius = 2\n",
    "    max_radius = 20\n",
    "    return min_radius + (max_radius - min_radius) * ((bird_count - min_birds) / (max_birds - min_birds))\n",
    "\n",
    "def get_color(bird_count):\n",
    "    \"\"\"Return color based on bird count ranges\"\"\"\n",
    "    # Calculate quartiles for better distribution\n",
    "    q1 = df['total_birds'].quantile(0.25)\n",
    "    q2 = df['total_birds'].quantile(0.5)\n",
    "    q3 = df['total_birds'].quantile(0.75)\n",
    "    \n",
    "    if bird_count <= q1:\n",
    "        return '#d7191c'  # Red'\n",
    "    elif bird_count <= q2:\n",
    "        return 'fdae61'  # Orange\n",
    "    elif bird_count <= q3:\n",
    "        return '2b83ba'  # Light blue'\n",
    "    else:\n",
    "        return '#abdda4'  # Light green"
   ]
  },
  {
   "cell_type": "markdown",
   "id": "bb0af57f-5c37-48a2-89a1-a17927561ccb",
   "metadata": {},
   "source": [
    "#### Create point layer"
   ]
  },
  {
   "cell_type": "code",
   "execution_count": 90,
   "id": "6e7fe20b-d7ab-400c-9345-8dde959f6f77",
   "metadata": {
    "execution": {
     "iopub.execute_input": "2025-06-17T21:59:14.121412Z",
     "iopub.status.busy": "2025-06-17T21:59:14.121110Z",
     "iopub.status.idle": "2025-06-17T21:59:14.128204Z",
     "shell.execute_reply": "2025-06-17T21:59:14.127674Z",
     "shell.execute_reply.started": "2025-06-17T21:59:14.121390Z"
    }
   },
   "outputs": [],
   "source": [
    "##v2\n",
    "def create_point_layer(df, latitude, longitude, id, bird_observations, traffic_noise):\n",
    "    \"\"\"\n",
    "    Create a feature group with points scaled by bird observations and colored by traffic noise.\n",
    "    \n",
    "    Args:\n",
    "        df (pd.DataFrame): DataFrame containing the point data\n",
    "        latitude (str): Name of latitude column\n",
    "        longitude (str): Name of longitude column\n",
    "        id (str): Name of ID column\n",
    "        bird_observations (str): Name of bird observations column\n",
    "        traffic_noise (str): Name of traffic noise column\n",
    "    \n",
    "    Returns:\n",
    "        folium.FeatureGroup: Layer containing all points\n",
    "    \"\"\"\n",
    "    # Create feature group\n",
    "    point_layer = folium.FeatureGroup(name='Observation Points')\n",
    "\n",
    "    # Remove any NaN values\n",
    "    df = df.dropna(subset=[bird_observations, traffic_noise])\n",
    "    \n",
    "    if len(df) == 0:\n",
    "        return point_layer\n",
    "    \n",
    "    # Calculate scales for size and color\n",
    "    min_birds = df[bird_observations].min()\n",
    "    max_birds = df[bird_observations].max()\n",
    "    min_noise = df[traffic_noise].min()\n",
    "    max_noise = df[traffic_noise].max()\n",
    "    \n",
    "    # Create scaling functions\n",
    "    def scale_radius(value):\n",
    "        # Scale radius between 5 and 25 pixels\n",
    "        return 5 + ((value - min_birds) / (max_birds - min_birds)) * 20\n",
    "    \n",
    "    def scale_color(value):\n",
    "        # Create color scale from green (quiet) to red (noisy)\n",
    "        normalized = (value - min_noise) / (max_noise - min_noise)\n",
    "        return f'#{int(255 * normalized):02x}{int(255 * (1-normalized)):02x}00'\n",
    "    \n",
    "    # Add points to layer\n",
    "    for idx, row in df.iterrows():\n",
    "        # Calculate radius and color\n",
    "        radius = scale_radius(row[bird_observations])\n",
    "        color = scale_color(row[traffic_noise])\n",
    "        \n",
    "        # Create popup content\n",
    "        popup_content = f\"\"\"\n",
    "            <b>Station ID:</b> {row[id]}<br>\n",
    "            <b>Bird Observations:</b> {row[bird_observations]}<br>\n",
    "            <b>Traffic Noise:</b> {row[traffic_noise]:.2f}<br>\n",
    "        \"\"\"\n",
    "        \n",
    "        # Add circle marker\n",
    "        folium.CircleMarker(\n",
    "            location=[row[latitude], row[longitude]],\n",
    "            radius=radius,\n",
    "            popup=folium.Popup(popup_content, max_width=300),\n",
    "            color='black',\n",
    "            weight=1,\n",
    "            fill=True,\n",
    "            fill_color=color,\n",
    "            fill_opacity=0.7,\n",
    "            tooltip=f\"Station {row[id]}\"\n",
    "        ).add_to(point_layer)\n",
    "    \n",
    "    # Add legend for size\n",
    "    legend_html = f\"\"\"\n",
    "        <div style=\"position: fixed; \n",
    "                    bottom: 50px; right: 50px; width: 150px; height: 90px; \n",
    "                    border:2px solid grey; z-index:9999; background-color:white;\n",
    "                    padding: 10px;\n",
    "                    font-size: 14px;\">\n",
    "            <p><b>Legend:</b></p>\n",
    "            <p>🔴 Size: Bird Observations<br>\n",
    "               ({min_birds:.0f} - {max_birds:.0f})</p>\n",
    "            <p>🎨 Color: Traffic Noise<br>\n",
    "               ({min_noise:.1f} - {max_noise:.1f})</p>\n",
    "        </div>\n",
    "    \"\"\"\n",
    "    point_layer.add_child(folium.Element(legend_html))\n",
    "    \n",
    "    return point_layer"
   ]
  },
  {
   "cell_type": "markdown",
   "id": "d4a10ec2-02df-420e-b11e-9eeba63bf744",
   "metadata": {},
   "source": [
    "#### Add point to map "
   ]
  },
  {
   "cell_type": "code",
   "execution_count": 11,
   "id": "88a59904-b551-4851-b90e-e34c2d2d875e",
   "metadata": {
    "execution": {
     "iopub.execute_input": "2025-06-17T19:55:56.843853Z",
     "iopub.status.busy": "2025-06-17T19:55:56.843558Z",
     "iopub.status.idle": "2025-06-17T19:55:56.849138Z",
     "shell.execute_reply": "2025-06-17T19:55:56.848416Z",
     "shell.execute_reply.started": "2025-06-17T19:55:56.843833Z"
    }
   },
   "outputs": [],
   "source": [
    "def add_df_point_to_map(df, m):\n",
    "    \"\"\"\n",
    "    Add points from DataFrame to map with size and color based on total_birds\n",
    "    \n",
    "    Parameters:\n",
    "    df: DataFrame containing latitude, longitude, and total_birds\n",
    "    m: folium Map object\n",
    "    \n",
    "    Returns:\n",
    "    feature_group: Folium FeatureGroup containing all markers\n",
    "    \"\"\"\n",
    "\n",
    "    min_birds = df['total_birds'].min()\n",
    "    max_birds = df['total_birds'].max()\n",
    "    \n",
    "    # Create a feature group for the data points\n",
    "    feature_group = folium.FeatureGroup(name='Bird Observations')\n",
    "    \n",
    "    # Add points to feature group\n",
    "    for idx, row in df.iterrows():\n",
    "        folium.CircleMarker(\n",
    "            location=[row['Lat'], row['Long']],\n",
    "            radius=scale_radius(row['total_birds'], min_birds, max_birds),\n",
    "            color=get_color(row['total_birds']),\n",
    "            fill=True,\n",
    "            fill_color=get_color(row['total_birds']),\n",
    "            fill_opacity=0.7,\n",
    "            popup=f\"Total Birds: {row['total_birds']}\",\n",
    "            tooltip=f\"Location: ({row['Lat']:.2f}, {row['Long']:.2f})\\nTotal Birds: {row['total_birds']}\"\n",
    "        ).add_to(feature_group)\n",
    "    \n",
    "    # Add the feature group to the map\n",
    "    feature_group.add_to(m)\n",
    "    \n",
    "    # Add a legend\n",
    "    legend_html = '''\n",
    "    <div style=\"position: fixed; \n",
    "                bottom: 50px; right: 50px; \n",
    "                border:2px solid grey; z-index:9999; font-size:14px;\n",
    "                background-color: white;\n",
    "                padding: 10px;\n",
    "                border-radius: 5px;\n",
    "                \">\n",
    "    <p><b>Bird Count Legend</b></p>\n",
    "    <p>\n",
    "    <i class=\"fa fa-circle\" style=\"color:blue\"></i> Low<br>\n",
    "    <i class=\"fa fa-circle\" style=\"color:yellow\"></i> Medium<br>\n",
    "    <i class=\"fa fa-circle\" style=\"color:orange\"></i> High<br>\n",
    "    <i class=\"fa fa-circle\" style=\"color:red\"></i> Very High\n",
    "    </p>\n",
    "    </div>\n",
    "    '''\n",
    "    m.get_root().html.add_child(folium.Element(legend_html))\n",
    "    \n",
    "    # Return the feature group\n",
    "    return feature_group"
   ]
  },
  {
   "cell_type": "markdown",
   "id": "5379a09c-c90e-4c87-9ee9-af13eba618b0",
   "metadata": {},
   "source": [
    "#### Calculate distance between points (miles)"
   ]
  },
  {
   "cell_type": "code",
   "execution_count": 12,
   "id": "7c1e7544-d9ec-4f30-9381-5dbcae83a0d1",
   "metadata": {
    "execution": {
     "iopub.execute_input": "2025-06-17T19:55:58.578937Z",
     "iopub.status.busy": "2025-06-17T19:55:58.578601Z",
     "iopub.status.idle": "2025-06-17T19:55:58.583208Z",
     "shell.execute_reply": "2025-06-17T19:55:58.582411Z",
     "shell.execute_reply.started": "2025-06-17T19:55:58.578916Z"
    }
   },
   "outputs": [],
   "source": [
    "# Calculate distance between points (approximate, in miles)\n",
    "def calculate_distance(lat1, lon1, lat2, lon2):\n",
    "    \"\"\"\n",
    "    Calculate distance between two points using Haversine formula\n",
    "    Returns distance in miles\n",
    "    \"\"\"\n",
    "    R = 3959.87433  # Earth's radius in miles\n",
    "\n",
    "    lat1, lon1, lat2, lon2 = map(np.radians, [lat1, lon1, lat2, lon2])\n",
    "    \n",
    "    dlat = lat2 - lat1\n",
    "    dlon = lon2 - lon1\n",
    "    \n",
    "    a = np.sin(dlat/2.0)**2 + np.cos(lat1) * np.cos(lat2) * np.sin(dlon/2.0)**2\n",
    "    c = 2 * np.arcsin(np.sqrt(a))\n",
    "    \n",
    "    return R * c\n"
   ]
  },
  {
   "cell_type": "markdown",
   "id": "96d03389-c80b-4ade-9074-a045258f7aa4",
   "metadata": {},
   "source": [
    "#### Create bounded area"
   ]
  },
  {
   "cell_type": "code",
   "execution_count": 13,
   "id": "16d012c1-aa13-40af-af6f-3e7c2dc44fb8",
   "metadata": {
    "execution": {
     "iopub.execute_input": "2025-06-17T19:56:04.970698Z",
     "iopub.status.busy": "2025-06-17T19:56:04.970345Z",
     "iopub.status.idle": "2025-06-17T19:56:04.976295Z",
     "shell.execute_reply": "2025-06-17T19:56:04.975528Z",
     "shell.execute_reply.started": "2025-06-17T19:56:04.970674Z"
    }
   },
   "outputs": [],
   "source": [
    "def create_bounded_polygon(top_coordinate, bottom_coordinate, path_coordinates, buffer_miles=0.1, color='blue', fill_color='blue'):\n",
    "    \"\"\"\n",
    "    Create a polygon layer for folium that extends east and west from a path of coordinates.\n",
    "    \n",
    "    Returns:\n",
    "    tuple: (folium.FeatureGroup, shapely.geometry.Polygon) - The Folium layer and the Shapely polygon\n",
    "    \"\"\"\n",
    "    # Convert buffer miles to degrees (approximate)\n",
    "    avg_lat = (top_coordinate[0] + bottom_coordinate[0]) / 2\n",
    "    buffer_degrees = buffer_miles / (math.cos(math.radians(avg_lat)) * 69)\n",
    "    \n",
    "    # Create points for the left and right sides of the polygon\n",
    "    left_points = []\n",
    "    right_points = []\n",
    "    \n",
    "    # Add top point to both sides\n",
    "    left_points.append([top_coordinate[0], top_coordinate[1] - buffer_degrees])\n",
    "    right_points.append([top_coordinate[0], top_coordinate[1] + buffer_degrees])\n",
    "    \n",
    "    # Create points along the path\n",
    "    for lat, lon in path_coordinates:\n",
    "        left_points.append([lat, lon - buffer_degrees])\n",
    "        right_points.append([lat, lon + buffer_degrees])\n",
    "    \n",
    "    # Add bottom point to both sides\n",
    "    left_points.append([bottom_coordinate[0], bottom_coordinate[1] - buffer_degrees])\n",
    "    right_points.append([bottom_coordinate[0], bottom_coordinate[1] + buffer_degrees])\n",
    "    \n",
    "    # Combine points to form a polygon (going down the left side and up the right side)\n",
    "    polygon_points = left_points + right_points[::-1] + [left_points[0]]\n",
    "    \n",
    "    # Create a Shapely polygon (note the coordinate order swap for Shapely)\n",
    "    shapely_points = [(lon, lat) for lat, lon in polygon_points]\n",
    "    shapely_polygon = Polygon(shapely_points)\n",
    "    \n",
    "    # Create a feature group\n",
    "    feature_group = folium.FeatureGroup(name=\"Bounded Polygon\")\n",
    "    \n",
    "    # Add the polygon to the feature group\n",
    "    folium.Polygon(\n",
    "        locations=polygon_points,\n",
    "        color=color,\n",
    "        fill=True,\n",
    "        fill_color=fill_color,\n",
    "        fill_opacity=0.2,\n",
    "        weight=2,\n",
    "        popup='Bounded Area'\n",
    "    ).add_to(feature_group)\n",
    "    \n",
    "    return feature_group, shapely_polygon"
   ]
  },
  {
   "cell_type": "code",
   "execution_count": 73,
   "id": "e56b64c0-a7e0-4aa1-aeb8-310051c65ab9",
   "metadata": {
    "execution": {
     "iopub.execute_input": "2025-06-17T21:00:02.072288Z",
     "iopub.status.busy": "2025-06-17T21:00:02.071908Z",
     "iopub.status.idle": "2025-06-17T21:00:02.130653Z",
     "shell.execute_reply": "2025-06-17T21:00:02.129144Z",
     "shell.execute_reply.started": "2025-06-17T21:00:02.072255Z"
    }
   },
   "outputs": [],
   "source": [
    "def save_polygon_to_json(polygon, filename='bounded_polygon.json'):\n",
    "    \"\"\"\n",
    "    Save polygon geometry to JSON file.\n",
    "    \n",
    "    Args:\n",
    "        polygon: Shapely Polygon object\n",
    "        filename (str): Output filename (default: 'bounded_polygon.json')\n",
    "    \"\"\"\n",
    "    try:\n",
    "        # Convert Shapely polygon to coordinate list\n",
    "        if hasattr(polygon, 'exterior'):\n",
    "            coords = [[x, y] for x, y in polygon.exterior.coords]\n",
    "        else:\n",
    "            coords = polygon  # In case it's already a list of coordinates\n",
    "            \n",
    "        # Convert to GeoJSON format\n",
    "        geojson = {\n",
    "            \"type\": \"Feature\",\n",
    "            \"geometry\": {\n",
    "                \"type\": \"Polygon\",\n",
    "                \"coordinates\": [coords]  # Note: GeoJSON requires nested array\n",
    "            }\n",
    "        }\n",
    "        \n",
    "        # Save to file\n",
    "        with open(filename, 'w') as f:\n",
    "            json.dump(geojson, f, indent=2)\n",
    "            \n",
    "        print(f\"Successfully saved polygon to {filename}\")\n",
    "        \n",
    "    except Exception as e:\n",
    "        print(f\"Error saving polygon to JSON: {str(e)}\")\n",
    "        raise"
   ]
  },
  {
   "cell_type": "code",
   "execution_count": 14,
   "id": "47a27a5a-0351-4228-a3a1-94aaeab50faa",
   "metadata": {
    "execution": {
     "iopub.execute_input": "2025-06-17T19:56:07.814343Z",
     "iopub.status.busy": "2025-06-17T19:56:07.813567Z",
     "iopub.status.idle": "2025-06-17T19:56:07.818270Z",
     "shell.execute_reply": "2025-06-17T19:56:07.817634Z",
     "shell.execute_reply.started": "2025-06-17T19:56:07.814315Z"
    }
   },
   "outputs": [],
   "source": [
    "def filter_by_bounded_area(df, polygon, lat_col=\"latitude\", lon_col=\"longitude\"):\n",
    "    \"\"\"\n",
    "    Filter DataFrame to only include points that fall within the given polygon\n",
    "    \n",
    "    Parameters:\n",
    "    df: pandas DataFrame containing latitude and longitude columns\n",
    "    polygon: shapely Polygon object defining the bounded area\n",
    "    lat_col: name of latitude column (default: \"latitude\")\n",
    "    lon_col: name of longitude column (default: \"longitude\")\n",
    "    \n",
    "    Returns:\n",
    "    pandas DataFrame containing only the rows within the polygon\n",
    "    \"\"\"\n",
    "    # Create a mask of points that fall within the polygon\n",
    "    mask = df.apply(\n",
    "        lambda row: polygon.contains(Point(row[lon_col], row[lat_col])), \n",
    "        axis=1\n",
    "    )\n",
    "    \n",
    "    # Return filtered DataFrame\n",
    "    return df[mask]"
   ]
  },
  {
   "cell_type": "markdown",
   "id": "1b05c23e-ba1f-4998-bc1a-c35d3a8806a5",
   "metadata": {
    "execution": {
     "iopub.execute_input": "2025-06-17T21:33:38.215707Z",
     "iopub.status.busy": "2025-06-17T21:33:38.215336Z",
     "iopub.status.idle": "2025-06-17T21:33:38.218720Z",
     "shell.execute_reply": "2025-06-17T21:33:38.218046Z",
     "shell.execute_reply.started": "2025-06-17T21:33:38.215682Z"
    }
   },
   "source": [
    "#### Slicers for noise and observations"
   ]
  },
  {
   "cell_type": "code",
   "execution_count": 80,
   "id": "3904dc36-a400-4552-86dd-b4b288ed7085",
   "metadata": {
    "execution": {
     "iopub.execute_input": "2025-06-17T21:42:02.606122Z",
     "iopub.status.busy": "2025-06-17T21:42:02.605855Z",
     "iopub.status.idle": "2025-06-17T21:42:02.610979Z",
     "shell.execute_reply": "2025-06-17T21:42:02.610040Z",
     "shell.execute_reply.started": "2025-06-17T21:42:02.606102Z"
    }
   },
   "outputs": [],
   "source": [
    "def create_filtered_layer(noise_threshold, bird_threshold, df=station_noise_avg):\n",
    "    \"\"\"\n",
    "    Create a feature group with points filtered by both noise and bird observation thresholds\n",
    "    \n",
    "    Args:\n",
    "        noise_threshold (float): Maximum noise level threshold\n",
    "        bird_threshold (float): Minimum bird observations threshold\n",
    "        df (pd.DataFrame): DataFrame with station data\n",
    "    \n",
    "    Returns:\n",
    "        folium.FeatureGroup: Filtered point layer\n",
    "    \"\"\"\n",
    "    # Filter data based on both thresholds\n",
    "    filtered_df = df[\n",
    "        (df['daily_avg_noise'] <= noise_threshold) & \n",
    "        (df['bird_observations'] >= bird_threshold)\n",
    "    ]\n",
    "    \n",
    "    # Create and return filtered point layer\n",
    "    return create_point_layer(\n",
    "        df=filtered_df,\n",
    "        latitude='latitude',\n",
    "        longitude='longitude',\n",
    "        id='station_id',\n",
    "        bird_observations='bird_observations',\n",
    "        traffic_noise='daily_avg_noise'\n",
    "    )"
   ]
  },
  {
   "cell_type": "markdown",
   "id": "df97cf55-42d5-4b65-89d0-d07a819fd368",
   "metadata": {
    "jp-MarkdownHeadingCollapsed": true
   },
   "source": [
    "### Read Data\n",
    "#### Training Data"
   ]
  },
  {
   "cell_type": "code",
   "execution_count": 15,
   "id": "4ee3e0ff-4b3f-41f2-a6e0-7a6d1d5250d8",
   "metadata": {
    "execution": {
     "iopub.execute_input": "2025-06-17T19:56:13.096909Z",
     "iopub.status.busy": "2025-06-17T19:56:13.096349Z",
     "iopub.status.idle": "2025-06-17T19:56:13.408017Z",
     "shell.execute_reply": "2025-06-17T19:56:13.407322Z",
     "shell.execute_reply.started": "2025-06-17T19:56:13.096885Z"
    }
   },
   "outputs": [
    {
     "name": "stdout",
     "output_type": "stream",
     "text": [
      "DataFrame shape: (24, 10)\n",
      "\n",
      "First few rows:\n",
      "  Segment      Lat     Long  Year  Daily Traffic Volume  % cars  % trucks  \\\n",
      "0      DC  38.9072 -77.0369  2019                200000      40        15   \n",
      "1      DC  38.9072 -77.0369  2020                150000      45        10   \n",
      "2      DC  38.9072 -77.0369  2021                170000      42        15   \n",
      "3      DC  38.9072 -77.0369  2022                190000      38        15   \n",
      "4      DC  38.9072 -77.0369  2023                204000      36        15   \n",
      "\n",
      "   % suvs   Noise level (db)  total_birds  \n",
      "0       45         75.560300       2776.0  \n",
      "1       45         73.910913       1376.0  \n",
      "2       43         74.794489       3576.0  \n",
      "3       47         75.397536       1266.0  \n",
      "4       49         75.766302       2141.0  \n"
     ]
    }
   ],
   "source": [
    "## reading training data\n",
    "abs\n",
    "if __name__ == \"__main__\":\n",
    "    try:\n",
    "        bucket_name = \"birdsbucker\"\n",
    "        file_key = \"trainingdata/training_data.csv\"\n",
    "        \n",
    "        # Example with additional pandas read_csv options\n",
    "        df = read_csv_from_s3_with_options(\n",
    "            bucket_name,\n",
    "            file_key,\n",
    "            delimiter=',',\n",
    "            encoding='utf-8',\n",
    "            na_values=['NA', 'missing']\n",
    "        )\n",
    "        \n",
    "        print(\"DataFrame shape:\", df.shape)\n",
    "        print(\"\\nFirst few rows:\")\n",
    "        print(df.head())\n",
    "        \n",
    "    except Exception as e:\n",
    "        print(f\"Error in main: {str(e)}\")"
   ]
  },
  {
   "cell_type": "markdown",
   "id": "70716e8d-6a6b-4578-a2f3-c9d039e8289e",
   "metadata": {},
   "source": [
    "#### Noise Data"
   ]
  },
  {
   "cell_type": "code",
   "execution_count": 16,
   "id": "09a0ad62-d3bd-44a1-90b8-d8e4519c2a39",
   "metadata": {
    "execution": {
     "iopub.execute_input": "2025-06-17T19:56:15.844856Z",
     "iopub.status.busy": "2025-06-17T19:56:15.844233Z",
     "iopub.status.idle": "2025-06-17T19:56:15.976077Z",
     "shell.execute_reply": "2025-06-17T19:56:15.975414Z",
     "shell.execute_reply.started": "2025-06-17T19:56:15.844829Z"
    }
   },
   "outputs": [
    {
     "name": "stdout",
     "output_type": "stream",
     "text": [
      "DataFrame shape: (36, 9)\n",
      "\n",
      "First few rows:\n",
      "  Segment      Lat     Long  Year  Daily Traffic Volume  % cars  % trucks  \\\n",
      "0      DC  38.9072 -77.0369  2019                200000      40        15   \n",
      "1      DC  38.9072 -77.0369  2020                150000      45        10   \n",
      "2      DC  38.9072 -77.0369  2021                170000      42        15   \n",
      "3      DC  38.9072 -77.0369  2022                190000      38        15   \n",
      "4      DC  38.9072 -77.0369  2023                204000      36        15   \n",
      "\n",
      "   % suvs   Noise level (db)  \n",
      "0       45         75.560300  \n",
      "1       45         73.910913  \n",
      "2       43         74.794489  \n",
      "3       47         75.397536  \n",
      "4       49         75.766302  \n"
     ]
    }
   ],
   "source": [
    "# reading noise data\n",
    "\n",
    "if __name__ == \"__main__\":\n",
    "    try:\n",
    "        bucket_name = \"birdsbucker\"\n",
    "        file_key = \"trafficVolume/2023_Traffic_Volume_DC.csv\"\n",
    "        \n",
    "        # Example with additional pandas read_csv options\n",
    "        noise = read_csv_from_s3_with_options(\n",
    "            bucket_name,\n",
    "            file_key,\n",
    "            delimiter=',',\n",
    "            encoding='utf-8',\n",
    "            na_values=['NA', 'missing']\n",
    "        )\n",
    "        \n",
    "        print(\"DataFrame shape:\", noise.shape)\n",
    "        print(\"\\nFirst few rows:\")\n",
    "        print(noise.head())\n",
    "        \n",
    "    except Exception as e:\n",
    "        print(f\"Error in main: {str(e)}\")"
   ]
  },
  {
   "cell_type": "markdown",
   "id": "f20ba044-940a-4996-961e-43ad478b5a7a",
   "metadata": {},
   "source": [
    "#### Read Stations data"
   ]
  },
  {
   "cell_type": "code",
   "execution_count": 17,
   "id": "e9a4a8fe-79a9-447b-abef-94e355ae83a4",
   "metadata": {
    "execution": {
     "iopub.execute_input": "2025-06-17T19:56:18.660274Z",
     "iopub.status.busy": "2025-06-17T19:56:18.659928Z",
     "iopub.status.idle": "2025-06-17T19:56:18.817681Z",
     "shell.execute_reply": "2025-06-17T19:56:18.816967Z",
     "shell.execute_reply.started": "2025-06-17T19:56:18.660253Z"
    }
   },
   "outputs": [
    {
     "name": "stdout",
     "output_type": "stream",
     "text": [
      "DataFrame shape: (593, 42)\n",
      "\n",
      "First few rows:\n",
      "  record_type  state_code station_id  travel_dir  travel_lane  year_record  \\\n",
      "0           S          11     001295           1            0           23   \n",
      "1           S          11     001295           1            1           23   \n",
      "2           S          11     001295           1            2           23   \n",
      "3           S          11     001295           1            3           23   \n",
      "4           S          11     002295           5            1           23   \n",
      "\n",
      "  f_system  num_lanes sample_type_volume  num_lanes_volume  ...  county_code  \\\n",
      "0       1U          3                  N                 3  ...            0   \n",
      "1       1U          3                  T                 3  ...            0   \n",
      "2       1U          3                  T                 3  ...            0   \n",
      "3       1U          3                  T                 3  ...            0   \n",
      "4       1U          3                  T                 3  ...            0   \n",
      "\n",
      "  is_sample     sample_id  nhs posted_route_signing  posted_signed_route  \\\n",
      "0         N          1203    N                    1             000I-295   \n",
      "1         N          1203    N                    1                  295   \n",
      "2         N          1203    N                    1                  295   \n",
      "3         N          1203    N                    1                  295   \n",
      "4         N          1203    N                    1                  295   \n",
      "\n",
      "  con_route_signing  con_signed_route  \\\n",
      "0                 0                 0   \n",
      "1                 0                     \n",
      "2                 0                     \n",
      "3                 0                     \n",
      "4                 0                     \n",
      "\n",
      "                                    station_location state  \n",
      "0  I-295@DC Line                                 ...    DC  \n",
      "1  Anacostia North ANN                           ...    DC  \n",
      "2  Anacostia North ANN                           ...    DC  \n",
      "3  Anacostia North ANN                           ...    DC  \n",
      "4  Anacostia South ANS                           ...    DC  \n",
      "\n",
      "[5 rows x 42 columns]\n"
     ]
    }
   ],
   "source": [
    "if __name__ == \"__main__\":\n",
    "    try:\n",
    "        bucket_name = \"birdsbucker\"\n",
    "        file_key = \"I95_stations_master.csv\"\n",
    "        \n",
    "        # Example with additional pandas read_csv options\n",
    "        stations = read_csv_from_s3_with_options(\n",
    "            bucket_name,\n",
    "            file_key,\n",
    "            delimiter=',',\n",
    "            encoding='utf-8',\n",
    "            na_values=['NA', 'missing']\n",
    "        )\n",
    "        \n",
    "        print(\"DataFrame shape:\", stations.shape)\n",
    "        print(\"\\nFirst few rows:\")\n",
    "        print(stations.head())\n",
    "        \n",
    "    except Exception as e:\n",
    "        print(f\"Error in main: {str(e)}\")"
   ]
  },
  {
   "cell_type": "markdown",
   "id": "f1c398e7-d707-4903-b981-0f41d07d1ded",
   "metadata": {},
   "source": [
    "#### VA birds data"
   ]
  },
  {
   "cell_type": "code",
   "execution_count": 17,
   "id": "4facc1a8-8747-4849-910a-ba09babbc02c",
   "metadata": {
    "execution": {
     "iopub.execute_input": "2025-06-17T16:05:21.039398Z",
     "iopub.status.busy": "2025-06-17T16:05:21.038785Z",
     "iopub.status.idle": "2025-06-17T16:05:23.200930Z",
     "shell.execute_reply": "2025-06-17T16:05:23.200087Z",
     "shell.execute_reply.started": "2025-06-17T16:05:21.039370Z"
    }
   },
   "outputs": [
    {
     "name": "stdout",
     "output_type": "stream",
     "text": [
      "DataFrame shape: (339155, 14)\n",
      "\n",
      "First few rows:\n",
      "                         global_unique_identifier         common_name  \\\n",
      "0  URN:CornellLabOfOrnithology:EBIRD:OBS880943792       American Crow   \n",
      "1  URN:CornellLabOfOrnithology:EBIRD:OBS886097673       American Crow   \n",
      "2  URN:CornellLabOfOrnithology:EBIRD:OBS872538163  American Goldfinch   \n",
      "3  URN:CornellLabOfOrnithology:EBIRD:OBS886097675  American Goldfinch   \n",
      "4  URN:CornellLabOfOrnithology:EBIRD:OBS886246557      American Robin   \n",
      "\n",
      "         scientific_name  observation_count     state county   latitude  \\\n",
      "0  Corvus brachyrhynchos                3.0  Delaware   Kent  38.977665   \n",
      "1  Corvus brachyrhynchos                4.0  Delaware   Kent  38.977665   \n",
      "2         Spinus tristis                6.0  Delaware   Kent  39.113831   \n",
      "3         Spinus tristis                1.0  Delaware   Kent  38.977665   \n",
      "4     Turdus migratorius                1.0  Delaware   Kent  38.977665   \n",
      "\n",
      "   longitude observation_date time_observations_started  duration_minutes  \\\n",
      "0 -75.543728       2020-03-17                  12:00:00             180.0   \n",
      "1 -75.543728       2020-03-27                  13:00:00             180.0   \n",
      "2 -75.627702       2020-03-01                  07:00:00             120.0   \n",
      "3 -75.543728       2020-03-27                  13:00:00             180.0   \n",
      "4 -75.543728       2020-03-30                  18:03:00              46.0   \n",
      "\n",
      "   i95_distance  station_distance station_id  \n",
      "0      1.439981         49.661663     00295D  \n",
      "1      1.439981         49.661663     00295D  \n",
      "2      3.651121         40.981063     00295D  \n",
      "3      1.439981         49.661663     00295D  \n",
      "4      1.439981         49.661663     00295D  \n"
     ]
    }
   ],
   "source": [
    "###\n",
    "if __name__ == \"__main__\":\n",
    "    try:\n",
    "        bucket_name = \"birdsbucker\"\n",
    "        file_key = \"DE_ebird_i95_stations.csv\"\n",
    "        \n",
    "        # Example with additional pandas read_csv options\n",
    "        DE_birds = read_csv_from_s3_with_options(\n",
    "            bucket_name,\n",
    "            file_key,\n",
    "            delimiter=',',\n",
    "            encoding='utf-8',\n",
    "            na_values=['NA', 'missing']\n",
    "        )\n",
    "        \n",
    "        print(\"DataFrame shape:\", DE_birds.shape)\n",
    "        print(\"\\nFirst few rows:\")\n",
    "        print(DE_birds.head())\n",
    "        \n",
    "    except Exception as e:\n",
    "        print(f\"Error in main: {str(e)}\")"
   ]
  },
  {
   "cell_type": "markdown",
   "id": "2c516667-d2a9-4812-8a14-05718c4c0c24",
   "metadata": {},
   "source": [
    "#### Traffic data"
   ]
  },
  {
   "cell_type": "code",
   "execution_count": 48,
   "id": "e1093c56-97fc-4411-94fa-eed1574f71bc",
   "metadata": {
    "execution": {
     "iopub.execute_input": "2025-06-17T20:23:07.321762Z",
     "iopub.status.busy": "2025-06-17T20:23:07.321141Z",
     "iopub.status.idle": "2025-06-17T20:23:09.795417Z",
     "shell.execute_reply": "2025-06-17T20:23:09.794669Z",
     "shell.execute_reply.started": "2025-06-17T20:23:07.321734Z"
    }
   },
   "outputs": [
    {
     "name": "stdout",
     "output_type": "stream",
     "text": [
      "DataFrame shape: (172685, 44)\n",
      "\n",
      "First few rows:\n",
      "  record_type  state_code f_system station_id  travel_dir  travel_lane  \\\n",
      "0           V          10       3U     000070           3            0   \n",
      "1           V          10       3U     000070           7            0   \n",
      "2           V          10       3U     000070           3            0   \n",
      "3           V          10       3U     000070           7            0   \n",
      "4           V          10       3U     000070           3            0   \n",
      "\n",
      "   year_record  month_record  day_record  day_of_week  ...  restrictions  \\\n",
      "0         2023             3           1            4  ...           NaN   \n",
      "1         2023             3           1            4  ...           NaN   \n",
      "2         2023             3           2            5  ...           NaN   \n",
      "3         2023             3           2            5  ...           NaN   \n",
      "4         2023             3           3            6  ...           NaN   \n",
      "\n",
      "    latitude  longitude                                   station_location  \\\n",
      "0  39.736988 -75.626902  SR2 KIRKWOOD HIGHWAY                          ...   \n",
      "1  39.736988 -75.626902  SR2 KIRKWOOD HIGHWAY                          ...   \n",
      "2  39.736988 -75.626902  SR2 KIRKWOOD HIGHWAY                          ...   \n",
      "3  39.736988 -75.626902  SR2 KIRKWOOD HIGHWAY                          ...   \n",
      "4  39.736988 -75.626902  SR2 KIRKWOOD HIGHWAY                          ...   \n",
      "\n",
      "   state  daily_avg_noise  peak_hour_noise  overnight_noise  rush_hour_noise  \\\n",
      "0     DE        84.690010        90.832366        76.551339        90.006734   \n",
      "1     DE        82.871219        90.175417        74.189924        88.499552   \n",
      "2     DE        85.235600        90.794593        76.963503        90.002922   \n",
      "3     DE        83.290727        90.030248        74.348190        88.370305   \n",
      "4     DE        85.392505        90.656645        77.526105        89.792512   \n",
      "\n",
      "   total_daily_volume  \n",
      "0             25004.0  \n",
      "1             17575.0  \n",
      "2             27473.0  \n",
      "3             19290.0  \n",
      "4             27334.0  \n",
      "\n",
      "[5 rows x 44 columns]\n"
     ]
    }
   ],
   "source": [
    "abs\n",
    "if __name__ == \"__main__\":\n",
    "    try:\n",
    "        bucket_name = \"birdsbucker\"\n",
    "        file_key = \"i95_traffic_mar_jun_2020_2023.csv\"\n",
    "        \n",
    "        # Example with additional pandas read_csv options\n",
    "        traffic = read_csv_from_s3_with_options(\n",
    "            bucket_name,\n",
    "            file_key,\n",
    "            low_memory=False,\n",
    "            delimiter=',',\n",
    "            encoding='utf-8',\n",
    "            na_values=['NA', 'missing']\n",
    "        )\n",
    "        \n",
    "        print(\"DataFrame shape:\", traffic.shape)\n",
    "        print(\"\\nFirst few rows:\")\n",
    "        print(traffic.head())\n",
    "        \n",
    "    except Exception as e:\n",
    "        print(f\"Error in main: {str(e)}\")"
   ]
  },
  {
   "cell_type": "markdown",
   "id": "4ed8d5b9-b43c-4466-9845-3f243321dd5d",
   "metadata": {},
   "source": [
    "### Processing\n",
    "1. Coordinates for area in scope"
   ]
  },
  {
   "cell_type": "code",
   "execution_count": 50,
   "id": "03cc3b9f-bbe8-4b99-95dd-91bf900ecb42",
   "metadata": {
    "execution": {
     "iopub.execute_input": "2025-06-17T20:26:46.497120Z",
     "iopub.status.busy": "2025-06-17T20:26:46.496790Z",
     "iopub.status.idle": "2025-06-17T20:26:46.501442Z",
     "shell.execute_reply": "2025-06-17T20:26:46.500392Z",
     "shell.execute_reply.started": "2025-06-17T20:26:46.497096Z"
    }
   },
   "outputs": [],
   "source": [
    "##making sure longitudes are negative\n",
    "stations['longitude'] = -abs(stations['longitude'])"
   ]
  },
  {
   "cell_type": "code",
   "execution_count": 51,
   "id": "367f51e2-da22-4a41-b130-7a9f36a994b2",
   "metadata": {
    "execution": {
     "iopub.execute_input": "2025-06-17T20:26:46.955285Z",
     "iopub.status.busy": "2025-06-17T20:26:46.954706Z",
     "iopub.status.idle": "2025-06-17T20:26:46.958475Z",
     "shell.execute_reply": "2025-06-17T20:26:46.957709Z",
     "shell.execute_reply.started": "2025-06-17T20:26:46.955258Z"
    }
   },
   "outputs": [],
   "source": [
    "applicable_stations=['160005', '060170', '792625', '160308', '140004', '140221']"
   ]
  },
  {
   "cell_type": "code",
   "execution_count": 52,
   "id": "83f8e9f4-ee0e-44bf-b7a4-7d5d000c95cf",
   "metadata": {
    "execution": {
     "iopub.execute_input": "2025-06-17T20:26:47.358717Z",
     "iopub.status.busy": "2025-06-17T20:26:47.358430Z",
     "iopub.status.idle": "2025-06-17T20:26:47.363802Z",
     "shell.execute_reply": "2025-06-17T20:26:47.362997Z",
     "shell.execute_reply.started": "2025-06-17T20:26:47.358695Z"
    }
   },
   "outputs": [],
   "source": [
    "scoped_stations = stations[stations['station_id'].isin(applicable_stations)]"
   ]
  },
  {
   "cell_type": "code",
   "execution_count": 53,
   "id": "69898beb-ad10-4bda-81f3-c9ee72ef71eb",
   "metadata": {
    "execution": {
     "iopub.execute_input": "2025-06-17T20:26:47.786808Z",
     "iopub.status.busy": "2025-06-17T20:26:47.786190Z",
     "iopub.status.idle": "2025-06-17T20:26:47.792850Z",
     "shell.execute_reply": "2025-06-17T20:26:47.791770Z",
     "shell.execute_reply.started": "2025-06-17T20:26:47.786781Z"
    }
   },
   "outputs": [],
   "source": [
    "scoped_stations= scoped_stations[['station_id',  'latitude', 'longitude']].drop_duplicates()"
   ]
  },
  {
   "cell_type": "code",
   "execution_count": 54,
   "id": "4f831908-d276-4470-9502-e9fe1d447565",
   "metadata": {
    "execution": {
     "iopub.execute_input": "2025-06-17T20:26:48.426543Z",
     "iopub.status.busy": "2025-06-17T20:26:48.426207Z",
     "iopub.status.idle": "2025-06-17T20:26:48.432749Z",
     "shell.execute_reply": "2025-06-17T20:26:48.431856Z",
     "shell.execute_reply.started": "2025-06-17T20:26:48.426518Z"
    }
   },
   "outputs": [],
   "source": [
    "# Define the desired order\n",
    "desired_order = ['160005', '060170', '792625', '160308', '140004', '140221']\n",
    "\n",
    "# Convert the station_id to string type if it's not already\n",
    "scoped_stations['station_id'] = scoped_stations['station_id'].astype(str)\n",
    "\n",
    "# Method 1: Using reindex\n",
    "scoped_stations = scoped_stations.set_index('station_id').reindex(desired_order).reset_index()"
   ]
  },
  {
   "cell_type": "code",
   "execution_count": 55,
   "id": "af6c0c7e-6d61-4ae8-b8d6-4d63f45913cb",
   "metadata": {
    "execution": {
     "iopub.execute_input": "2025-06-17T20:26:49.203927Z",
     "iopub.status.busy": "2025-06-17T20:26:49.203253Z",
     "iopub.status.idle": "2025-06-17T20:26:49.211584Z",
     "shell.execute_reply": "2025-06-17T20:26:49.210843Z",
     "shell.execute_reply.started": "2025-06-17T20:26:49.203899Z"
    }
   },
   "outputs": [
    {
     "data": {
      "text/html": [
       "<div>\n",
       "<style scoped>\n",
       "    .dataframe tbody tr th:only-of-type {\n",
       "        vertical-align: middle;\n",
       "    }\n",
       "\n",
       "    .dataframe tbody tr th {\n",
       "        vertical-align: top;\n",
       "    }\n",
       "\n",
       "    .dataframe thead th {\n",
       "        text-align: right;\n",
       "    }\n",
       "</style>\n",
       "<table border=\"1\" class=\"dataframe\">\n",
       "  <thead>\n",
       "    <tr style=\"text-align: right;\">\n",
       "      <th></th>\n",
       "      <th>station_id</th>\n",
       "      <th>latitude</th>\n",
       "      <th>longitude</th>\n",
       "    </tr>\n",
       "  </thead>\n",
       "  <tbody>\n",
       "    <tr>\n",
       "      <th>0</th>\n",
       "      <td>160005</td>\n",
       "      <td>38.13873</td>\n",
       "      <td>-77.50837</td>\n",
       "    </tr>\n",
       "    <tr>\n",
       "      <th>1</th>\n",
       "      <td>060170</td>\n",
       "      <td>38.12208</td>\n",
       "      <td>-77.51653</td>\n",
       "    </tr>\n",
       "    <tr>\n",
       "      <th>2</th>\n",
       "      <td>792625</td>\n",
       "      <td>37.98311</td>\n",
       "      <td>-77.49229</td>\n",
       "    </tr>\n",
       "    <tr>\n",
       "      <th>3</th>\n",
       "      <td>160308</td>\n",
       "      <td>37.89196</td>\n",
       "      <td>-77.45865</td>\n",
       "    </tr>\n",
       "    <tr>\n",
       "      <th>4</th>\n",
       "      <td>140004</td>\n",
       "      <td>37.82411</td>\n",
       "      <td>-77.45616</td>\n",
       "    </tr>\n",
       "    <tr>\n",
       "      <th>5</th>\n",
       "      <td>140221</td>\n",
       "      <td>37.75417</td>\n",
       "      <td>-77.45853</td>\n",
       "    </tr>\n",
       "  </tbody>\n",
       "</table>\n",
       "</div>"
      ],
      "text/plain": [
       "  station_id  latitude  longitude\n",
       "0     160005  38.13873  -77.50837\n",
       "1     060170  38.12208  -77.51653\n",
       "2     792625  37.98311  -77.49229\n",
       "3     160308  37.89196  -77.45865\n",
       "4     140004  37.82411  -77.45616\n",
       "5     140221  37.75417  -77.45853"
      ]
     },
     "execution_count": 55,
     "metadata": {},
     "output_type": "execute_result"
    }
   ],
   "source": [
    "scoped_stations"
   ]
  },
  {
   "cell_type": "markdown",
   "id": "62e20da1-1035-41c2-9f52-719efa67b1ba",
   "metadata": {},
   "source": [
    "#### Route coordinates and stations coordinates"
   ]
  },
  {
   "cell_type": "code",
   "execution_count": 56,
   "id": "fac8bef4-04e5-4942-bf04-2d5ab05a0c01",
   "metadata": {
    "execution": {
     "iopub.execute_input": "2025-06-17T20:26:52.369262Z",
     "iopub.status.busy": "2025-06-17T20:26:52.368924Z",
     "iopub.status.idle": "2025-06-17T20:26:52.376519Z",
     "shell.execute_reply": "2025-06-17T20:26:52.375913Z",
     "shell.execute_reply.started": "2025-06-17T20:26:52.369240Z"
    }
   },
   "outputs": [
    {
     "data": {
      "text/html": [
       "<div>\n",
       "<style scoped>\n",
       "    .dataframe tbody tr th:only-of-type {\n",
       "        vertical-align: middle;\n",
       "    }\n",
       "\n",
       "    .dataframe tbody tr th {\n",
       "        vertical-align: top;\n",
       "    }\n",
       "\n",
       "    .dataframe thead th {\n",
       "        text-align: right;\n",
       "    }\n",
       "</style>\n",
       "<table border=\"1\" class=\"dataframe\">\n",
       "  <thead>\n",
       "    <tr style=\"text-align: right;\">\n",
       "      <th></th>\n",
       "      <th>latitude</th>\n",
       "      <th>longitude</th>\n",
       "    </tr>\n",
       "  </thead>\n",
       "  <tbody>\n",
       "    <tr>\n",
       "      <th>0</th>\n",
       "      <td>38.13873</td>\n",
       "      <td>-77.50837</td>\n",
       "    </tr>\n",
       "    <tr>\n",
       "      <th>1</th>\n",
       "      <td>38.12208</td>\n",
       "      <td>-77.51653</td>\n",
       "    </tr>\n",
       "    <tr>\n",
       "      <th>2</th>\n",
       "      <td>37.98311</td>\n",
       "      <td>-77.49229</td>\n",
       "    </tr>\n",
       "    <tr>\n",
       "      <th>3</th>\n",
       "      <td>37.89196</td>\n",
       "      <td>-77.45865</td>\n",
       "    </tr>\n",
       "    <tr>\n",
       "      <th>4</th>\n",
       "      <td>37.82411</td>\n",
       "      <td>-77.45616</td>\n",
       "    </tr>\n",
       "    <tr>\n",
       "      <th>5</th>\n",
       "      <td>37.75417</td>\n",
       "      <td>-77.45853</td>\n",
       "    </tr>\n",
       "  </tbody>\n",
       "</table>\n",
       "</div>"
      ],
      "text/plain": [
       "   latitude  longitude\n",
       "0  38.13873  -77.50837\n",
       "1  38.12208  -77.51653\n",
       "2  37.98311  -77.49229\n",
       "3  37.89196  -77.45865\n",
       "4  37.82411  -77.45616\n",
       "5  37.75417  -77.45853"
      ]
     },
     "execution_count": 56,
     "metadata": {},
     "output_type": "execute_result"
    }
   ],
   "source": [
    "i95_detailed= scoped_stations[['latitude', 'longitude']]\n",
    "i95_detailed"
   ]
  },
  {
   "cell_type": "markdown",
   "id": "dcf71476-1c45-45e7-8621-8ee6b14e4c16",
   "metadata": {},
   "source": [
    "#### Filtering Traffic data based on scoped stations"
   ]
  },
  {
   "cell_type": "code",
   "execution_count": 59,
   "id": "1a3bcc12-c653-4cb5-96ac-f7dd8fe77457",
   "metadata": {
    "execution": {
     "iopub.execute_input": "2025-06-17T20:30:03.241844Z",
     "iopub.status.busy": "2025-06-17T20:30:03.241282Z",
     "iopub.status.idle": "2025-06-17T20:30:03.263801Z",
     "shell.execute_reply": "2025-06-17T20:30:03.262914Z",
     "shell.execute_reply.started": "2025-06-17T20:30:03.241806Z"
    }
   },
   "outputs": [],
   "source": [
    "traffic = traffic[traffic['station_id'].isin(applicable_stations)]"
   ]
  },
  {
   "cell_type": "code",
   "execution_count": 62,
   "id": "bae5cb27-9af8-4f12-b04a-92b72ae11305",
   "metadata": {
    "execution": {
     "iopub.execute_input": "2025-06-17T20:34:07.233595Z",
     "iopub.status.busy": "2025-06-17T20:34:07.233020Z",
     "iopub.status.idle": "2025-06-17T20:34:07.250513Z",
     "shell.execute_reply": "2025-06-17T20:34:07.249837Z",
     "shell.execute_reply.started": "2025-06-17T20:34:07.233573Z"
    }
   },
   "outputs": [
    {
     "name": "stdout",
     "output_type": "stream",
     "text": [
      "Average Noise Levels by Station with Coordinates:\n",
      "  station_id  daily_avg_noise  longitude  latitude\n",
      "1     140004            89.69     -77.46     37.82\n",
      "3     160308            89.58     -77.46     37.89\n",
      "2     160005            89.43     -77.51     38.14\n",
      "0     060170            89.23     -77.52     38.12\n",
      "4     792625            76.74     -77.49     37.98\n"
     ]
    }
   ],
   "source": [
    "# Calculate average noise levels by station including coordinates\n",
    "station_noise_avg = (traffic.groupby('station_id')\n",
    "                    .agg({\n",
    "                        'daily_avg_noise': 'mean',\n",
    "                        'longitude': 'first',  # Take first occurrence since coordinates are constant\n",
    "                        'latitude': 'first'\n",
    "                    })\n",
    "                    .round(2)  # Round to 2 decimal places\n",
    "                    .reset_index()\n",
    "                    .sort_values('daily_avg_noise', ascending=False))\n",
    "\n",
    "# Display results\n",
    "print(\"Average Noise Levels by Station with Coordinates:\")\n",
    "print(station_noise_avg)"
   ]
  },
  {
   "cell_type": "markdown",
   "id": "eb86ddb6-6a4a-4e10-af34-aeeb2d964e9c",
   "metadata": {},
   "source": [
    "#### Filter bird data based on scoped area"
   ]
  },
  {
   "cell_type": "code",
   "execution_count": null,
   "id": "5d974878-50bd-4031-9a51-ae49f50abccd",
   "metadata": {},
   "outputs": [],
   "source": []
  },
  {
   "cell_type": "markdown",
   "id": "d0f51fa3-d570-4ca0-9db5-0d5697213c9c",
   "metadata": {
    "execution": {
     "iopub.execute_input": "2025-06-17T20:37:52.658469Z",
     "iopub.status.busy": "2025-06-17T20:37:52.657987Z",
     "iopub.status.idle": "2025-06-17T20:37:52.661504Z",
     "shell.execute_reply": "2025-06-17T20:37:52.660741Z",
     "shell.execute_reply.started": "2025-06-17T20:37:52.658445Z"
    }
   },
   "source": [
    "#### Number of bird observations per station"
   ]
  },
  {
   "cell_type": "code",
   "execution_count": 65,
   "id": "9d9d439e-51e6-4ae8-8377-0ce192f0a6bd",
   "metadata": {
    "execution": {
     "iopub.execute_input": "2025-06-17T20:40:01.641701Z",
     "iopub.status.busy": "2025-06-17T20:40:01.641205Z",
     "iopub.status.idle": "2025-06-17T20:40:01.665102Z",
     "shell.execute_reply": "2025-06-17T20:40:01.664004Z",
     "shell.execute_reply.started": "2025-06-17T20:40:01.641671Z"
    }
   },
   "outputs": [
    {
     "data": {
      "text/html": [
       "<div>\n",
       "<style scoped>\n",
       "    .dataframe tbody tr th:only-of-type {\n",
       "        vertical-align: middle;\n",
       "    }\n",
       "\n",
       "    .dataframe tbody tr th {\n",
       "        vertical-align: top;\n",
       "    }\n",
       "\n",
       "    .dataframe thead th {\n",
       "        text-align: right;\n",
       "    }\n",
       "</style>\n",
       "<table border=\"1\" class=\"dataframe\">\n",
       "  <thead>\n",
       "    <tr style=\"text-align: right;\">\n",
       "      <th></th>\n",
       "      <th>station_id</th>\n",
       "      <th>daily_avg_noise</th>\n",
       "      <th>longitude</th>\n",
       "      <th>latitude</th>\n",
       "      <th>bird_observations</th>\n",
       "    </tr>\n",
       "  </thead>\n",
       "  <tbody>\n",
       "    <tr>\n",
       "      <th>1</th>\n",
       "      <td>140004</td>\n",
       "      <td>89.69</td>\n",
       "      <td>-77.46</td>\n",
       "      <td>37.82</td>\n",
       "      <td>122</td>\n",
       "    </tr>\n",
       "    <tr>\n",
       "      <th>3</th>\n",
       "      <td>160308</td>\n",
       "      <td>89.58</td>\n",
       "      <td>-77.46</td>\n",
       "      <td>37.89</td>\n",
       "      <td>290</td>\n",
       "    </tr>\n",
       "    <tr>\n",
       "      <th>2</th>\n",
       "      <td>160005</td>\n",
       "      <td>89.43</td>\n",
       "      <td>-77.51</td>\n",
       "      <td>38.14</td>\n",
       "      <td>126</td>\n",
       "    </tr>\n",
       "    <tr>\n",
       "      <th>0</th>\n",
       "      <td>060170</td>\n",
       "      <td>89.23</td>\n",
       "      <td>-77.52</td>\n",
       "      <td>38.12</td>\n",
       "      <td>91</td>\n",
       "    </tr>\n",
       "    <tr>\n",
       "      <th>4</th>\n",
       "      <td>792625</td>\n",
       "      <td>76.74</td>\n",
       "      <td>-77.49</td>\n",
       "      <td>37.98</td>\n",
       "      <td>208</td>\n",
       "    </tr>\n",
       "  </tbody>\n",
       "</table>\n",
       "</div>"
      ],
      "text/plain": [
       "  station_id  daily_avg_noise  longitude  latitude  bird_observations\n",
       "1     140004            89.69     -77.46     37.82                122\n",
       "3     160308            89.58     -77.46     37.89                290\n",
       "2     160005            89.43     -77.51     38.14                126\n",
       "0     060170            89.23     -77.52     38.12                 91\n",
       "4     792625            76.74     -77.49     37.98                208"
      ]
     },
     "execution_count": 65,
     "metadata": {},
     "output_type": "execute_result"
    }
   ],
   "source": [
    "np.random.seed(42)  # For reproducibility\n",
    "station_noise_avg['bird_observations'] = np.random.randint(20, 301, size=len(station_noise_avg))\n",
    "station_noise_avg"
   ]
  },
  {
   "cell_type": "markdown",
   "id": "72531eb2-865e-4c5b-a679-5fe5c6bd9867",
   "metadata": {},
   "source": [
    "#### Scoped area"
   ]
  },
  {
   "cell_type": "code",
   "execution_count": 63,
   "id": "39538580-2e8a-4592-b1ff-7d676f6fe664",
   "metadata": {
    "execution": {
     "iopub.execute_input": "2025-06-17T20:34:29.060353Z",
     "iopub.status.busy": "2025-06-17T20:34:29.059739Z",
     "iopub.status.idle": "2025-06-17T20:34:29.065161Z",
     "shell.execute_reply": "2025-06-17T20:34:29.064214Z",
     "shell.execute_reply.started": "2025-06-17T20:34:29.060327Z"
    }
   },
   "outputs": [],
   "source": [
    "top_coord = (38.20869849463392, -77.498061264592)    \n",
    "bottom_coord = (37.69676499199098, -77.45031120265044)  \n",
    "path_coordinates = list(zip(scoped_stations['latitude'], scoped_stations['longitude']))\n",
    "\n",
    "# create bounded area and bounded polygon\n",
    "bounded_area, bounded_polygon = create_bounded_polygon(\n",
    "    top_coordinate=top_coord,\n",
    "    bottom_coordinate=bottom_coord,\n",
    "    path_coordinates=path_coordinates,\n",
    "    buffer_miles=5,\n",
    "    color='blue',\n",
    "    fill_color='blue'\n",
    ")"
   ]
  },
  {
   "cell_type": "markdown",
   "id": "cdcb60c8-0653-4210-a6f2-b25bafa5e679",
   "metadata": {
    "execution": {
     "iopub.execute_input": "2025-06-17T19:51:20.523851Z",
     "iopub.status.busy": "2025-06-17T19:51:20.523208Z",
     "iopub.status.idle": "2025-06-17T19:51:20.526848Z",
     "shell.execute_reply": "2025-06-17T19:51:20.526222Z",
     "shell.execute_reply.started": "2025-06-17T19:51:20.523820Z"
    }
   },
   "source": [
    "### Create Map"
   ]
  },
  {
   "cell_type": "code",
   "execution_count": 92,
   "id": "a9f93e0c-7112-4ce1-a0c7-9bd16c179bef",
   "metadata": {
    "execution": {
     "iopub.execute_input": "2025-06-17T21:59:29.105451Z",
     "iopub.status.busy": "2025-06-17T21:59:29.105165Z",
     "iopub.status.idle": "2025-06-17T21:59:29.154019Z",
     "shell.execute_reply": "2025-06-17T21:59:29.153345Z",
     "shell.execute_reply.started": "2025-06-17T21:59:29.105429Z"
    }
   },
   "outputs": [],
   "source": [
    "\n",
    "# Create a folium map centered on the middle of the path\n",
    "center_lat = (top_coord[0] + bottom_coord[0]) / 2\n",
    "center_lon = (top_coord[1] + bottom_coord[1]) / 2\n",
    "\n",
    "m = folium.Map(\n",
    "    location=[center_lat, center_lon],\n",
    "    zoom_start=10,\n",
    "    tiles='openstreetmap'\n",
    ")\n",
    "\n",
    "bounded_area.add_to(m)\n",
    "\n",
    "# Create a feature group for the detailed route\n",
    "route_group = folium.FeatureGroup(name='I-95 Detailed Route')\n",
    "\n",
    "# Draw I-95 as a line with the detailed coordinates\n",
    "folium.PolyLine(\n",
    "    path_coordinates,\n",
    "    weight=3,\n",
    "    color='blue',\n",
    "    opacity=0.8,\n",
    "    popup='Interstate 95'\n",
    ").add_to(route_group)\n",
    "\n",
    "stations_layer=create_point_layer(station_noise_avg,latitude='latitude', longitude='longitude', id= 'station_id',bird_observations='bird_observations', traffic_noise='daily_avg_noise' )\n",
    "# bird_layer = add_df_point_to_map(df, m)\n",
    "\n",
    "# Add additional map features with proper attribution\n",
    "# folium.TileLayer('cartodbpositron', name='Light Map').add_to(m)\n",
    "# folium.TileLayer('cartodbdark_matter', name='Dark Map').add_to(m)\n",
    "\n",
    "# ESRI Terrain\n",
    "folium.TileLayer(\n",
    "    tiles='https://server.arcgisonline.com/ArcGIS/rest/services/World_Terrain_Base/MapServer/tile/{z}/{y}/{x}',\n",
    "    attr='Esri',\n",
    "    name='ESRI Terrain'\n",
    ").add_to(m)\n",
    "\n",
    "# OpenTopoMap with attribution\n",
    "folium.TileLayer(\n",
    "    'OpenTopoMap',\n",
    "    name='Topography',\n",
    "    attr='Map data: &copy; OpenStreetMap contributors, &copy; OpenTopoMap'\n",
    ").add_to(m)\n",
    "\n",
    "# Add map controls\n",
    "stations_layer.add_to(m)\n",
    "# bird_layer.add_to(m)\n",
    "plugins.Fullscreen().add_to(m)\n",
    "plugins.MousePosition().add_to(m)\n",
    "plugins.MeasureControl().add_to(m)\n",
    "folium.LayerControl().add_to(m)\n",
    "\n",
    "# Add a mini map\n",
    "minimap = plugins.MiniMap()\n",
    "m.add_child(minimap)\n",
    "\n",
    "# Add a title\n",
    "title_html = '''\n",
    "<div style=\"position: fixed; \n",
    "    top: 10px; left: 50px; width: 200px; height: 50px; \n",
    "    background-color: white; border:2px solid grey; z-index:9999; \n",
    "    font-size:16px; padding: 10px\">\n",
    "    <b>Highway Noise and Bird Observations</b>\n",
    "</div>\n",
    "'''\n",
    "m.get_root().html.add_child(folium.Element(title_html))\n",
    "\n",
    "# Save the map\n",
    "m.save('i95_detailed_route_map.html')"
   ]
  },
  {
   "cell_type": "markdown",
   "id": "a3953e3f-f3d8-49c2-b3b9-866144556e51",
   "metadata": {},
   "source": [
    "#### Create Slicers"
   ]
  },
  {
   "cell_type": "code",
   "execution_count": 81,
   "id": "960f4cda-b8e4-4a9c-85ab-74036d3853a7",
   "metadata": {
    "execution": {
     "iopub.execute_input": "2025-06-17T21:42:39.076513Z",
     "iopub.status.busy": "2025-06-17T21:42:39.075764Z",
     "iopub.status.idle": "2025-06-17T21:42:39.083953Z",
     "shell.execute_reply": "2025-06-17T21:42:39.083188Z",
     "shell.execute_reply.started": "2025-06-17T21:42:39.076485Z"
    }
   },
   "outputs": [],
   "source": [
    "# Create sliders\n",
    "noise_slider = FloatSlider(\n",
    "    value=station_noise_avg['daily_avg_noise'].mean(),\n",
    "    min=station_noise_avg['daily_avg_noise'].min(),\n",
    "    max=station_noise_avg['daily_avg_noise'].max(),\n",
    "    step=0.5,\n",
    "    description='Max Noise:',\n",
    "    continuous_update=False,\n",
    "    layout=Layout(width='500px')\n",
    ")\n",
    "\n",
    "bird_slider = FloatSlider(\n",
    "    value=station_noise_avg['bird_observations'].mean(),\n",
    "    min=station_noise_avg['bird_observations'].min(),\n",
    "    max=station_noise_avg['bird_observations'].max(),\n",
    "    step=5,\n",
    "    description='Birds:',\n",
    "    continuous_update=False,\n",
    "    layout=Layout(width='500px')\n",
    ")"
   ]
  },
  {
   "cell_type": "code",
   "execution_count": 91,
   "id": "5c6a7303-2832-419f-8b42-728c054d17f5",
   "metadata": {
    "execution": {
     "iopub.execute_input": "2025-06-17T21:59:21.640956Z",
     "iopub.status.busy": "2025-06-17T21:59:21.640566Z",
     "iopub.status.idle": "2025-06-17T21:59:21.697995Z",
     "shell.execute_reply": "2025-06-17T21:59:21.696918Z",
     "shell.execute_reply.started": "2025-06-17T21:59:21.640934Z"
    }
   },
   "outputs": [
    {
     "name": "stderr",
     "output_type": "stream",
     "text": [
      "/tmp/ipykernel_181/2368672039.py:35: RuntimeWarning: invalid value encountered in scalar divide\n",
      "  return 5 + ((value - min_birds) / (max_birds - min_birds)) * 20\n",
      "/tmp/ipykernel_181/2368672039.py:39: RuntimeWarning: invalid value encountered in scalar divide\n",
      "  normalized = (value - min_noise) / (max_noise - min_noise)\n"
     ]
    },
    {
     "ename": "ValueError",
     "evalue": "cannot convert float NaN to integer",
     "output_type": "error",
     "traceback": [
      "\u001b[0;31m---------------------------------------------------------------------------\u001b[0m",
      "\u001b[0;31mValueError\u001b[0m                                Traceback (most recent call last)",
      "Cell \u001b[0;32mIn[91], line 9\u001b[0m\n\u001b[1;32m      2\u001b[0m m \u001b[38;5;241m=\u001b[39m folium\u001b[38;5;241m.\u001b[39mMap(\n\u001b[1;32m      3\u001b[0m     location\u001b[38;5;241m=\u001b[39m[station_noise_avg[\u001b[38;5;124m'\u001b[39m\u001b[38;5;124mlatitude\u001b[39m\u001b[38;5;124m'\u001b[39m]\u001b[38;5;241m.\u001b[39mmean(), \n\u001b[1;32m      4\u001b[0m               station_noise_avg[\u001b[38;5;124m'\u001b[39m\u001b[38;5;124mlongitude\u001b[39m\u001b[38;5;124m'\u001b[39m]\u001b[38;5;241m.\u001b[39mmean()],\n\u001b[1;32m      5\u001b[0m     zoom_start\u001b[38;5;241m=\u001b[39m\u001b[38;5;241m10\u001b[39m\n\u001b[1;32m      6\u001b[0m )\n\u001b[1;32m      8\u001b[0m \u001b[38;5;66;03m# Add initial layer\u001b[39;00m\n\u001b[0;32m----> 9\u001b[0m filtered_layer \u001b[38;5;241m=\u001b[39m \u001b[43mcreate_filtered_layer\u001b[49m\u001b[43m(\u001b[49m\n\u001b[1;32m     10\u001b[0m \u001b[43m    \u001b[49m\u001b[43mnoise_slider\u001b[49m\u001b[38;5;241;43m.\u001b[39;49m\u001b[43mvalue\u001b[49m\u001b[43m,\u001b[49m\u001b[43m \u001b[49m\n\u001b[1;32m     11\u001b[0m \u001b[43m    \u001b[49m\u001b[43mbird_slider\u001b[49m\u001b[38;5;241;43m.\u001b[39;49m\u001b[43mvalue\u001b[49m\u001b[43m,\u001b[49m\n\u001b[1;32m     12\u001b[0m \u001b[43m    \u001b[49m\u001b[43mdf\u001b[49m\u001b[38;5;241;43m=\u001b[39;49m\u001b[43mstation_noise_avg\u001b[49m\u001b[43m  \u001b[49m\u001b[38;5;66;43;03m# Pass the original dataframe\u001b[39;49;00m\n\u001b[1;32m     13\u001b[0m \u001b[43m)\u001b[49m\n\u001b[1;32m     14\u001b[0m filtered_layer\u001b[38;5;241m.\u001b[39madd_to(m)\n\u001b[1;32m     16\u001b[0m \u001b[38;5;28;01mdef\u001b[39;00m\u001b[38;5;250m \u001b[39m\u001b[38;5;21mupdate_map\u001b[39m(noise_threshold, bird_threshold):\n\u001b[1;32m     17\u001b[0m     \u001b[38;5;66;03m# Remove old layer using layer_name\u001b[39;00m\n",
      "Cell \u001b[0;32mIn[80], line 20\u001b[0m, in \u001b[0;36mcreate_filtered_layer\u001b[0;34m(noise_threshold, bird_threshold, df)\u001b[0m\n\u001b[1;32m     14\u001b[0m filtered_df \u001b[38;5;241m=\u001b[39m df[\n\u001b[1;32m     15\u001b[0m     (df[\u001b[38;5;124m'\u001b[39m\u001b[38;5;124mdaily_avg_noise\u001b[39m\u001b[38;5;124m'\u001b[39m] \u001b[38;5;241m<\u001b[39m\u001b[38;5;241m=\u001b[39m noise_threshold) \u001b[38;5;241m&\u001b[39m \n\u001b[1;32m     16\u001b[0m     (df[\u001b[38;5;124m'\u001b[39m\u001b[38;5;124mbird_observations\u001b[39m\u001b[38;5;124m'\u001b[39m] \u001b[38;5;241m>\u001b[39m\u001b[38;5;241m=\u001b[39m bird_threshold)\n\u001b[1;32m     17\u001b[0m ]\n\u001b[1;32m     19\u001b[0m \u001b[38;5;66;03m# Create and return filtered point layer\u001b[39;00m\n\u001b[0;32m---> 20\u001b[0m \u001b[38;5;28;01mreturn\u001b[39;00m \u001b[43mcreate_point_layer\u001b[49m\u001b[43m(\u001b[49m\n\u001b[1;32m     21\u001b[0m \u001b[43m    \u001b[49m\u001b[43mdf\u001b[49m\u001b[38;5;241;43m=\u001b[39;49m\u001b[43mfiltered_df\u001b[49m\u001b[43m,\u001b[49m\n\u001b[1;32m     22\u001b[0m \u001b[43m    \u001b[49m\u001b[43mlatitude\u001b[49m\u001b[38;5;241;43m=\u001b[39;49m\u001b[38;5;124;43m'\u001b[39;49m\u001b[38;5;124;43mlatitude\u001b[39;49m\u001b[38;5;124;43m'\u001b[39;49m\u001b[43m,\u001b[49m\n\u001b[1;32m     23\u001b[0m \u001b[43m    \u001b[49m\u001b[43mlongitude\u001b[49m\u001b[38;5;241;43m=\u001b[39;49m\u001b[38;5;124;43m'\u001b[39;49m\u001b[38;5;124;43mlongitude\u001b[39;49m\u001b[38;5;124;43m'\u001b[39;49m\u001b[43m,\u001b[49m\n\u001b[1;32m     24\u001b[0m \u001b[43m    \u001b[49m\u001b[38;5;28;43mid\u001b[39;49m\u001b[38;5;241;43m=\u001b[39;49m\u001b[38;5;124;43m'\u001b[39;49m\u001b[38;5;124;43mstation_id\u001b[39;49m\u001b[38;5;124;43m'\u001b[39;49m\u001b[43m,\u001b[49m\n\u001b[1;32m     25\u001b[0m \u001b[43m    \u001b[49m\u001b[43mbird_observations\u001b[49m\u001b[38;5;241;43m=\u001b[39;49m\u001b[38;5;124;43m'\u001b[39;49m\u001b[38;5;124;43mbird_observations\u001b[39;49m\u001b[38;5;124;43m'\u001b[39;49m\u001b[43m,\u001b[49m\n\u001b[1;32m     26\u001b[0m \u001b[43m    \u001b[49m\u001b[43mtraffic_noise\u001b[49m\u001b[38;5;241;43m=\u001b[39;49m\u001b[38;5;124;43m'\u001b[39;49m\u001b[38;5;124;43mdaily_avg_noise\u001b[39;49m\u001b[38;5;124;43m'\u001b[39;49m\n\u001b[1;32m     27\u001b[0m \u001b[43m\u001b[49m\u001b[43m)\u001b[49m\n",
      "Cell \u001b[0;32mIn[90], line 46\u001b[0m, in \u001b[0;36mcreate_point_layer\u001b[0;34m(df, latitude, longitude, id, bird_observations, traffic_noise)\u001b[0m\n\u001b[1;32m     43\u001b[0m \u001b[38;5;28;01mfor\u001b[39;00m idx, row \u001b[38;5;129;01min\u001b[39;00m df\u001b[38;5;241m.\u001b[39miterrows():\n\u001b[1;32m     44\u001b[0m     \u001b[38;5;66;03m# Calculate radius and color\u001b[39;00m\n\u001b[1;32m     45\u001b[0m     radius \u001b[38;5;241m=\u001b[39m scale_radius(row[bird_observations])\n\u001b[0;32m---> 46\u001b[0m     color \u001b[38;5;241m=\u001b[39m \u001b[43mscale_color\u001b[49m\u001b[43m(\u001b[49m\u001b[43mrow\u001b[49m\u001b[43m[\u001b[49m\u001b[43mtraffic_noise\u001b[49m\u001b[43m]\u001b[49m\u001b[43m)\u001b[49m\n\u001b[1;32m     48\u001b[0m     \u001b[38;5;66;03m# Create popup content\u001b[39;00m\n\u001b[1;32m     49\u001b[0m     popup_content \u001b[38;5;241m=\u001b[39m \u001b[38;5;124mf\u001b[39m\u001b[38;5;124m\"\"\"\u001b[39m\n\u001b[1;32m     50\u001b[0m \u001b[38;5;124m        <b>Station ID:</b> \u001b[39m\u001b[38;5;132;01m{\u001b[39;00mrow[\u001b[38;5;28mid\u001b[39m]\u001b[38;5;132;01m}\u001b[39;00m\u001b[38;5;124m<br>\u001b[39m\n\u001b[1;32m     51\u001b[0m \u001b[38;5;124m        <b>Bird Observations:</b> \u001b[39m\u001b[38;5;132;01m{\u001b[39;00mrow[bird_observations]\u001b[38;5;132;01m}\u001b[39;00m\u001b[38;5;124m<br>\u001b[39m\n\u001b[1;32m     52\u001b[0m \u001b[38;5;124m        <b>Traffic Noise:</b> \u001b[39m\u001b[38;5;132;01m{\u001b[39;00mrow[traffic_noise]\u001b[38;5;132;01m:\u001b[39;00m\u001b[38;5;124m.2f\u001b[39m\u001b[38;5;132;01m}\u001b[39;00m\u001b[38;5;124m<br>\u001b[39m\n\u001b[1;32m     53\u001b[0m \u001b[38;5;124m    \u001b[39m\u001b[38;5;124m\"\"\"\u001b[39m\n",
      "Cell \u001b[0;32mIn[90], line 40\u001b[0m, in \u001b[0;36mcreate_point_layer.<locals>.scale_color\u001b[0;34m(value)\u001b[0m\n\u001b[1;32m     37\u001b[0m \u001b[38;5;28;01mdef\u001b[39;00m\u001b[38;5;250m \u001b[39m\u001b[38;5;21mscale_color\u001b[39m(value):\n\u001b[1;32m     38\u001b[0m     \u001b[38;5;66;03m# Create color scale from green (quiet) to red (noisy)\u001b[39;00m\n\u001b[1;32m     39\u001b[0m     normalized \u001b[38;5;241m=\u001b[39m (value \u001b[38;5;241m-\u001b[39m min_noise) \u001b[38;5;241m/\u001b[39m (max_noise \u001b[38;5;241m-\u001b[39m min_noise)\n\u001b[0;32m---> 40\u001b[0m     \u001b[38;5;28;01mreturn\u001b[39;00m \u001b[38;5;124mf\u001b[39m\u001b[38;5;124m'\u001b[39m\u001b[38;5;124m#\u001b[39m\u001b[38;5;132;01m{\u001b[39;00m\u001b[38;5;28;43mint\u001b[39;49m\u001b[43m(\u001b[49m\u001b[38;5;241;43m255\u001b[39;49m\u001b[38;5;250;43m \u001b[39;49m\u001b[38;5;241;43m*\u001b[39;49m\u001b[38;5;250;43m \u001b[39;49m\u001b[43mnormalized\u001b[49m\u001b[43m)\u001b[49m\u001b[38;5;132;01m:\u001b[39;00m\u001b[38;5;124m02x\u001b[39m\u001b[38;5;132;01m}\u001b[39;00m\u001b[38;5;132;01m{\u001b[39;00m\u001b[38;5;28mint\u001b[39m(\u001b[38;5;241m255\u001b[39m\u001b[38;5;250m \u001b[39m\u001b[38;5;241m*\u001b[39m\u001b[38;5;250m \u001b[39m(\u001b[38;5;241m1\u001b[39m\u001b[38;5;241m-\u001b[39mnormalized))\u001b[38;5;132;01m:\u001b[39;00m\u001b[38;5;124m02x\u001b[39m\u001b[38;5;132;01m}\u001b[39;00m\u001b[38;5;124m00\u001b[39m\u001b[38;5;124m'\u001b[39m\n",
      "\u001b[0;31mValueError\u001b[0m: cannot convert float NaN to integer"
     ]
    }
   ],
   "source": [
    "# Create base map\n",
    "m = folium.Map(\n",
    "    location=[station_noise_avg['latitude'].mean(), \n",
    "              station_noise_avg['longitude'].mean()],\n",
    "    zoom_start=10\n",
    ")\n",
    "\n",
    "# Add initial layer\n",
    "filtered_layer = create_filtered_layer(\n",
    "    noise_slider.value, \n",
    "    bird_slider.value,\n",
    "    df=station_noise_avg  # Pass the original dataframe\n",
    ")\n",
    "filtered_layer.add_to(m)\n",
    "\n",
    "def update_map(noise_threshold, bird_threshold):\n",
    "    # Remove old layer using layer_name\n",
    "    for layer in m._children.copy():\n",
    "        if m._children[layer].layer_name == 'filtered_points':\n",
    "            del m._children[layer]\n",
    "            \n",
    "    # Add new filtered layer\n",
    "    new_layer = create_filtered_layer(\n",
    "        noise_threshold, \n",
    "        bird_threshold,\n",
    "        df=station_noise_avg  # Use the original dataframe\n",
    "    )\n",
    "    new_layer.add_to(m)\n",
    "    display(m)\n",
    "\n",
    "# Create interactive controls\n",
    "interactive_controls = interact(\n",
    "    update_map,\n",
    "    noise_threshold=noise_slider,\n",
    "    bird_threshold=bird_slider\n",
    ")\n",
    "\n",
    "# Add a mini map\n",
    "minimap = plugins.MiniMap()\n",
    "m.add_child(minimap)\n",
    "\n",
    "# Add a title\n",
    "title_html = '''\n",
    "<div style=\"position: fixed; \n",
    "    top: 10px; left: 50px; width: 200px; height: 50px; \n",
    "    background-color: white; border:2px solid grey; z-index:9999; \n",
    "    font-size:16px; padding: 10px\">\n",
    "    <b>Highway Noise and Bird Observations</b>\n",
    "</div>\n",
    "'''\n",
    "m.get_root().html.add_child(folium.Element(title_html))\n",
    "\n",
    "# Save the map\n",
    "m.save('map_w_sliders.html')"
   ]
  },
  {
   "cell_type": "markdown",
   "id": "75cb0d26-67c3-4002-b56e-4d80ec32c998",
   "metadata": {},
   "source": [
    "## Other stuff"
   ]
  },
  {
   "cell_type": "code",
   "execution_count": null,
   "id": "f37071e9-2398-4cd5-8015-4c160f2b570f",
   "metadata": {},
   "outputs": [],
   "source": [
    "# Use the bounded_area polygon to filter your data\n",
    "filtered_df = filter_by_bounded_area(df, bounded_polygon)\n",
    "\n",
    "# If you need to filter the stations data:\n",
    "filtered_stations = filter_by_bounded_area(scoped_stations, bounded_area)\n",
    "\n",
    "# Print the number of points inside and outside the bounded area\n",
    "print(f\"Total points: {len(df)}\")\n",
    "print(f\"Points inside bounded area: {len(filtered_df)}\")\n",
    "print(f\"Points outside bounded area: {len(df) - len(filtered_df)}\")"
   ]
  },
  {
   "cell_type": "code",
   "execution_count": 69,
   "id": "716823d1-3231-4415-8c84-ad8809983904",
   "metadata": {
    "execution": {
     "iopub.execute_input": "2025-06-17T20:51:57.654017Z",
     "iopub.status.busy": "2025-06-17T20:51:57.653342Z",
     "iopub.status.idle": "2025-06-17T20:51:57.659267Z",
     "shell.execute_reply": "2025-06-17T20:51:57.658710Z",
     "shell.execute_reply.started": "2025-06-17T20:51:57.653981Z"
    }
   },
   "outputs": [
    {
     "data": {
      "image/svg+xml": [
       "<svg xmlns=\"http://www.w3.org/2000/svg\" xmlns:xlink=\"http://www.w3.org/1999/xlink\" width=\"100.0\" height=\"100.0\" viewBox=\"-77.62890597976559 37.67628765188526 0.29097075688073915 0.5528881828543817\" preserveAspectRatio=\"xMinYMin meet\"><g transform=\"matrix(1,0,0,-1,0,75.90546348662491)\"><path fill-rule=\"evenodd\" fill=\"#66cc99\" stroke=\"#555555\" stroke-width=\"0.011057763657087634\" opacity=\"0.6\" d=\"M -77.58995990425187,38.20869849463392 L -77.60026863965987,38.13873 L -77.60842863965988,38.12208 L -77.58418863965987,37.98311 L -77.55054863965988,37.89196 L -77.54805863965987,37.82411 L -77.55042863965987,37.75417 L -77.54220984231031,37.69676499199098 L -77.35841256299057,37.69676499199098 L -77.36663136034012,37.75417 L -77.36426136034012,37.82411 L -77.36675136034013,37.89196 L -77.40039136034012,37.98311 L -77.42463136034013,38.12208 L -77.41647136034013,38.13873 L -77.40616262493212,38.20869849463392 L -77.58995990425187,38.20869849463392 z\" /></g></svg>"
      ],
      "text/plain": [
       "<POLYGON ((-77.59 38.209, -77.6 38.139, -77.608 38.122, -77.584 37.983, -77....>"
      ]
     },
     "execution_count": 69,
     "metadata": {},
     "output_type": "execute_result"
    }
   ],
   "source": [
    "bounded_polygon"
   ]
  },
  {
   "cell_type": "code",
   "execution_count": 72,
   "id": "66db8f9c-a3e5-40ac-93a0-fa0fa68ee9ff",
   "metadata": {
    "execution": {
     "iopub.execute_input": "2025-06-17T20:54:12.498576Z",
     "iopub.status.busy": "2025-06-17T20:54:12.498286Z",
     "iopub.status.idle": "2025-06-17T20:54:12.504495Z",
     "shell.execute_reply": "2025-06-17T20:54:12.503949Z",
     "shell.execute_reply.started": "2025-06-17T20:54:12.498554Z"
    }
   },
   "outputs": [
    {
     "name": "stdout",
     "output_type": "stream",
     "text": [
      "Successfully saved polygon to bounded_polygon.json\n"
     ]
    }
   ],
   "source": [
    "\n",
    "\n",
    "# Usage\n",
    "save_polygon_to_json(bounded_polygon)"
   ]
  },
  {
   "cell_type": "markdown",
   "id": "d7bf9ef4-6f74-4495-9946-621dc7ba5302",
   "metadata": {},
   "source": [
    "## Reading Parquet"
   ]
  },
  {
   "cell_type": "code",
   "execution_count": 98,
   "id": "5cf19812-8457-45a1-91e1-dd467dc29852",
   "metadata": {
    "execution": {
     "iopub.execute_input": "2025-06-17T22:19:43.209112Z",
     "iopub.status.busy": "2025-06-17T22:19:43.208479Z",
     "iopub.status.idle": "2025-06-17T22:19:43.729471Z",
     "shell.execute_reply": "2025-06-17T22:19:43.728813Z",
     "shell.execute_reply.started": "2025-06-17T22:19:43.209073Z"
    }
   },
   "outputs": [
    {
     "name": "stdout",
     "output_type": "stream",
     "text": [
      "Original dataset: 100000 points\n",
      "Filtered dataset: 43 points\n"
     ]
    },
    {
     "name": "stderr",
     "output_type": "stream",
     "text": [
      "/tmp/ipykernel_181/212778073.py:34: DeprecationWarning: The 'shapely.vectorized.contains' function is deprecated and will be removed a future version. Use 'shapely.contains_xy' instead (available since shapely 2.0.0).\n",
      "  mask = contains(bounded_polygon, points[:, 0], points[:, 1])\n"
     ]
    }
   ],
   "source": [
    "import pandas as pd\n",
    "import json\n",
    "import numpy as np\n",
    "from shapely.geometry import Point, Polygon\n",
    "from shapely.vectorized import contains\n",
    "import s3fs\n",
    "import boto3\n",
    "\n",
    "# Initialize boto3 session and get credentials\n",
    "session = boto3.Session()\n",
    "credentials = session.get_credentials()\n",
    "\n",
    "# Initialize S3 filesystem with boto3 credentials\n",
    "s3 = s3fs.S3FileSystem(\n",
    "    key=credentials.access_key,\n",
    "    secret=credentials.secret_key,\n",
    "    token=credentials.token,  # This will be included if using temporary credentials\n",
    "    anon=False\n",
    ")\n",
    "# Read the parquet file\n",
    "s3_path = 's3://birdsbucker/ebd_US-VA_smp_relApr-2025.parquet'\n",
    "df_birds = pd.read_parquet(s3_path, filesystem=s3)\n",
    "\n",
    "# Load the bounded polygon\n",
    "with open('bounded_polygon.json', 'r') as f:\n",
    "    polygon_data = json.load(f)\n",
    "    coordinates = polygon_data['geometry']['coordinates'][0]\n",
    "    bounded_polygon = Polygon(coordinates)\n",
    "\n",
    "# Create points array\n",
    "points = np.column_stack((df_birds['LONGITUDE'].values, df_birds['LATITUDE'].values))\n",
    "\n",
    "# Check which points are within polygon\n",
    "mask = contains(bounded_polygon, points[:, 0], points[:, 1])\n",
    "\n",
    "# Filter dataframe\n",
    "df_birds_filtered = df_birds[mask].reset_index(drop=True)\n",
    "\n",
    "print(f\"Original dataset: {len(df_birds)} points\")\n",
    "print(f\"Filtered dataset: {len(df_birds_filtered)} points\")"
   ]
  },
  {
   "cell_type": "code",
   "execution_count": null,
   "id": "903254db-6108-4df9-bbcc-68f715b455a7",
   "metadata": {},
   "outputs": [],
   "source": []
  }
 ],
 "metadata": {
  "kernelspec": {
   "display_name": "Python 3 (ipykernel)",
   "language": "python",
   "name": "python3"
  },
  "language_info": {
   "codemirror_mode": {
    "name": "ipython",
    "version": 3
   },
   "file_extension": ".py",
   "mimetype": "text/x-python",
   "name": "python",
   "nbconvert_exporter": "python",
   "pygments_lexer": "ipython3",
   "version": "3.12.9"
  }
 },
 "nbformat": 4,
 "nbformat_minor": 5
}
